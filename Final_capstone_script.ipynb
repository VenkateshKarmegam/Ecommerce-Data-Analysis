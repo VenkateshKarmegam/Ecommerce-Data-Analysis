{
 "cells": [
  {
   "cell_type": "code",
   "execution_count": 1,
   "id": "0450b162-fc4c-4f42-8c20-39a24ba56e29",
   "metadata": {
    "tags": []
   },
   "outputs": [],
   "source": [
    "#Packages related to general operating system & warnings\n",
    "import os \n",
    "import warnings\n",
    "warnings.filterwarnings('ignore')\n",
    "#Packages related to data importing, manipulation, exploratory data analysis, data understanding\n",
    "import numpy as np\n",
    "import pandas as pd\n",
    "from pandas import Series, DataFrame\n",
    "#import pandas_profiling\n",
    "import scipy.stats as stats\n",
    "#Packages related to data visualizaiton\n",
    "import seaborn as sns\n",
    "import matplotlib.pyplot as plt\n",
    "%matplotlib inline"
   ]
  },
  {
   "cell_type": "code",
   "execution_count": 2,
   "id": "9794d6d8-c8aa-4f54-813a-3adc0afdde32",
   "metadata": {
    "tags": []
   },
   "outputs": [],
   "source": [
    "from matplotlib.backends.backend_pdf import PdfPages\n",
    "#Modules related to split the data & gridsearch\n",
    "from sklearn.model_selection import train_test_split, GridSearchCV\n",
    "#Module related to calculation of metrics\n",
    "from sklearn import metrics\n",
    "#Module related to VIF \n",
    "from statsmodels.stats.outliers_influence import variance_inflation_factor\n",
    "#Modules related to preprocessing (Imputation of missings, standardiszation, new features creation, converting categorical to numerical)\n",
    "from sklearn.impute import MissingIndicator, SimpleImputer\n",
    "#from sklearn.preprocessing import Imputer, PolynomialFeatures, KBinsDiscretizer, FunctionTransformer\n",
    "from sklearn.preprocessing import StandardScaler, MinMaxScaler, MaxAbsScaler\n",
    "from sklearn.preprocessing import LabelEncoder, OneHotEncoder, LabelBinarizer, OrdinalEncoder\n",
    "#Modules related to feature selection\n",
    "from sklearn.feature_selection import RFE, RFECV, SelectKBest, chi2, SelectPercentile, f_classif, mutual_info_classif, f_regression"
   ]
  },
  {
   "cell_type": "code",
   "execution_count": 3,
   "id": "a38c37f7-9d02-4e3a-ac3f-031aa426038a",
   "metadata": {
    "tags": []
   },
   "outputs": [],
   "source": [
    "cust_data=pd.read_csv(\"Customers_new.csv\")"
   ]
  },
  {
   "cell_type": "code",
   "execution_count": 4,
   "id": "09b046cc-3e3f-4c39-84d2-a9572b22c15a",
   "metadata": {
    "tags": []
   },
   "outputs": [
    {
     "data": {
      "text/html": [
       "<div>\n",
       "<style scoped>\n",
       "    .dataframe tbody tr th:only-of-type {\n",
       "        vertical-align: middle;\n",
       "    }\n",
       "\n",
       "    .dataframe tbody tr th {\n",
       "        vertical-align: top;\n",
       "    }\n",
       "\n",
       "    .dataframe thead th {\n",
       "        text-align: right;\n",
       "    }\n",
       "</style>\n",
       "<table border=\"1\" class=\"dataframe\">\n",
       "  <thead>\n",
       "    <tr style=\"text-align: right;\">\n",
       "      <th></th>\n",
       "      <th>customer_Id</th>\n",
       "      <th>DOB</th>\n",
       "      <th>Gender</th>\n",
       "      <th>city_code</th>\n",
       "      <th>Unnamed: 4</th>\n",
       "      <th>Unnamed: 5</th>\n",
       "      <th>Unnamed: 6</th>\n",
       "      <th>Unnamed: 7</th>\n",
       "    </tr>\n",
       "  </thead>\n",
       "  <tbody>\n",
       "    <tr>\n",
       "      <th>0</th>\n",
       "      <td>268408</td>\n",
       "      <td>01-02-1970</td>\n",
       "      <td>M</td>\n",
       "      <td>4.0</td>\n",
       "      <td>NaN</td>\n",
       "      <td>NaN</td>\n",
       "      <td>NaN</td>\n",
       "      <td>NaN</td>\n",
       "    </tr>\n",
       "    <tr>\n",
       "      <th>1</th>\n",
       "      <td>269696</td>\n",
       "      <td>01-07-1970</td>\n",
       "      <td>F</td>\n",
       "      <td>8.0</td>\n",
       "      <td>NaN</td>\n",
       "      <td>NaN</td>\n",
       "      <td>NaN</td>\n",
       "      <td>NaN</td>\n",
       "    </tr>\n",
       "    <tr>\n",
       "      <th>2</th>\n",
       "      <td>268159</td>\n",
       "      <td>01-08-1970</td>\n",
       "      <td>F</td>\n",
       "      <td>8.0</td>\n",
       "      <td>NaN</td>\n",
       "      <td>NaN</td>\n",
       "      <td>NaN</td>\n",
       "      <td>NaN</td>\n",
       "    </tr>\n",
       "    <tr>\n",
       "      <th>3</th>\n",
       "      <td>270181</td>\n",
       "      <td>01-10-1970</td>\n",
       "      <td>F</td>\n",
       "      <td>2.0</td>\n",
       "      <td>NaN</td>\n",
       "      <td>NaN</td>\n",
       "      <td>NaN</td>\n",
       "      <td>NaN</td>\n",
       "    </tr>\n",
       "    <tr>\n",
       "      <th>4</th>\n",
       "      <td>268073</td>\n",
       "      <td>01-11-1970</td>\n",
       "      <td>M</td>\n",
       "      <td>1.0</td>\n",
       "      <td>NaN</td>\n",
       "      <td>NaN</td>\n",
       "      <td>NaN</td>\n",
       "      <td>NaN</td>\n",
       "    </tr>\n",
       "  </tbody>\n",
       "</table>\n",
       "</div>"
      ],
      "text/plain": [
       "   customer_Id         DOB Gender  city_code  Unnamed: 4  Unnamed: 5  \\\n",
       "0       268408  01-02-1970      M        4.0         NaN         NaN   \n",
       "1       269696  01-07-1970      F        8.0         NaN         NaN   \n",
       "2       268159  01-08-1970      F        8.0         NaN         NaN   \n",
       "3       270181  01-10-1970      F        2.0         NaN         NaN   \n",
       "4       268073  01-11-1970      M        1.0         NaN         NaN   \n",
       "\n",
       "   Unnamed: 6 Unnamed: 7  \n",
       "0         NaN        NaN  \n",
       "1         NaN        NaN  \n",
       "2         NaN        NaN  \n",
       "3         NaN        NaN  \n",
       "4         NaN        NaN  "
      ]
     },
     "execution_count": 4,
     "metadata": {},
     "output_type": "execute_result"
    }
   ],
   "source": [
    "cust_data.head()"
   ]
  },
  {
   "cell_type": "code",
   "execution_count": 5,
   "id": "f2da9df3-61ef-4951-b63a-7d6197c0da5c",
   "metadata": {
    "tags": []
   },
   "outputs": [],
   "source": [
    "trans_data=pd.read_csv(\"Transactions_new.csv\")"
   ]
  },
  {
   "cell_type": "code",
   "execution_count": 6,
   "id": "d209b437-bab4-48a7-8b22-8636ca17bdc3",
   "metadata": {
    "tags": []
   },
   "outputs": [],
   "source": [
    "trans_data[\"join_id\"]=trans_data[\"prod_cat_code\"].astype(str)+\" \"+trans_data[\"prod_subcat_code\"].astype(str)"
   ]
  },
  {
   "cell_type": "code",
   "execution_count": 7,
   "id": "0b332971-da84-40e1-b609-abcc28d82037",
   "metadata": {
    "tags": []
   },
   "outputs": [
    {
     "data": {
      "text/html": [
       "<div>\n",
       "<style scoped>\n",
       "    .dataframe tbody tr th:only-of-type {\n",
       "        vertical-align: middle;\n",
       "    }\n",
       "\n",
       "    .dataframe tbody tr th {\n",
       "        vertical-align: top;\n",
       "    }\n",
       "\n",
       "    .dataframe thead th {\n",
       "        text-align: right;\n",
       "    }\n",
       "</style>\n",
       "<table border=\"1\" class=\"dataframe\">\n",
       "  <thead>\n",
       "    <tr style=\"text-align: right;\">\n",
       "      <th></th>\n",
       "      <th>transaction_id</th>\n",
       "      <th>cust_id</th>\n",
       "      <th>tran_date</th>\n",
       "      <th>prod_subcat_code</th>\n",
       "      <th>prod_cat_code</th>\n",
       "      <th>Qty</th>\n",
       "      <th>Rate</th>\n",
       "      <th>Tax</th>\n",
       "      <th>total_amt</th>\n",
       "      <th>Store_type</th>\n",
       "      <th>join_id</th>\n",
       "    </tr>\n",
       "  </thead>\n",
       "  <tbody>\n",
       "    <tr>\n",
       "      <th>0</th>\n",
       "      <td>80712190438</td>\n",
       "      <td>270351</td>\n",
       "      <td>28-02-2014</td>\n",
       "      <td>1</td>\n",
       "      <td>1</td>\n",
       "      <td>-5</td>\n",
       "      <td>-772</td>\n",
       "      <td>405.300</td>\n",
       "      <td>-4265.300</td>\n",
       "      <td>e-Shop</td>\n",
       "      <td>1 1</td>\n",
       "    </tr>\n",
       "    <tr>\n",
       "      <th>1</th>\n",
       "      <td>29258453508</td>\n",
       "      <td>270384</td>\n",
       "      <td>27-02-2014</td>\n",
       "      <td>5</td>\n",
       "      <td>3</td>\n",
       "      <td>-5</td>\n",
       "      <td>-1497</td>\n",
       "      <td>785.925</td>\n",
       "      <td>-8270.925</td>\n",
       "      <td>e-Shop</td>\n",
       "      <td>3 5</td>\n",
       "    </tr>\n",
       "    <tr>\n",
       "      <th>2</th>\n",
       "      <td>51750724947</td>\n",
       "      <td>273420</td>\n",
       "      <td>24-02-2014</td>\n",
       "      <td>6</td>\n",
       "      <td>5</td>\n",
       "      <td>-2</td>\n",
       "      <td>-791</td>\n",
       "      <td>166.110</td>\n",
       "      <td>-1748.110</td>\n",
       "      <td>TeleShop</td>\n",
       "      <td>5 6</td>\n",
       "    </tr>\n",
       "    <tr>\n",
       "      <th>3</th>\n",
       "      <td>93274880719</td>\n",
       "      <td>271509</td>\n",
       "      <td>24-02-2014</td>\n",
       "      <td>11</td>\n",
       "      <td>6</td>\n",
       "      <td>-3</td>\n",
       "      <td>-1363</td>\n",
       "      <td>429.345</td>\n",
       "      <td>-4518.345</td>\n",
       "      <td>e-Shop</td>\n",
       "      <td>6 11</td>\n",
       "    </tr>\n",
       "    <tr>\n",
       "      <th>4</th>\n",
       "      <td>51750724947</td>\n",
       "      <td>273420</td>\n",
       "      <td>23-02-2014</td>\n",
       "      <td>6</td>\n",
       "      <td>5</td>\n",
       "      <td>-2</td>\n",
       "      <td>-791</td>\n",
       "      <td>166.110</td>\n",
       "      <td>-1748.110</td>\n",
       "      <td>TeleShop</td>\n",
       "      <td>5 6</td>\n",
       "    </tr>\n",
       "  </tbody>\n",
       "</table>\n",
       "</div>"
      ],
      "text/plain": [
       "   transaction_id  cust_id   tran_date  prod_subcat_code  prod_cat_code  Qty  \\\n",
       "0     80712190438   270351  28-02-2014                 1              1   -5   \n",
       "1     29258453508   270384  27-02-2014                 5              3   -5   \n",
       "2     51750724947   273420  24-02-2014                 6              5   -2   \n",
       "3     93274880719   271509  24-02-2014                11              6   -3   \n",
       "4     51750724947   273420  23-02-2014                 6              5   -2   \n",
       "\n",
       "   Rate      Tax  total_amt Store_type join_id  \n",
       "0  -772  405.300  -4265.300     e-Shop     1 1  \n",
       "1 -1497  785.925  -8270.925     e-Shop     3 5  \n",
       "2  -791  166.110  -1748.110   TeleShop     5 6  \n",
       "3 -1363  429.345  -4518.345     e-Shop    6 11  \n",
       "4  -791  166.110  -1748.110   TeleShop     5 6  "
      ]
     },
     "execution_count": 7,
     "metadata": {},
     "output_type": "execute_result"
    }
   ],
   "source": [
    "trans_data.head()"
   ]
  },
  {
   "cell_type": "code",
   "execution_count": 8,
   "id": "660e3094-7e77-4e51-a789-7247083fc0ea",
   "metadata": {
    "tags": []
   },
   "outputs": [],
   "source": [
    "prod_info=pd.read_csv(\"prod_cat_info.csv\")"
   ]
  },
  {
   "cell_type": "code",
   "execution_count": 9,
   "id": "9bf7c944-ae7c-42c7-9d92-59effd73ad60",
   "metadata": {
    "tags": []
   },
   "outputs": [
    {
     "data": {
      "text/html": [
       "<div>\n",
       "<style scoped>\n",
       "    .dataframe tbody tr th:only-of-type {\n",
       "        vertical-align: middle;\n",
       "    }\n",
       "\n",
       "    .dataframe tbody tr th {\n",
       "        vertical-align: top;\n",
       "    }\n",
       "\n",
       "    .dataframe thead th {\n",
       "        text-align: right;\n",
       "    }\n",
       "</style>\n",
       "<table border=\"1\" class=\"dataframe\">\n",
       "  <thead>\n",
       "    <tr style=\"text-align: right;\">\n",
       "      <th></th>\n",
       "      <th>prod_cat_code</th>\n",
       "      <th>prod_cat</th>\n",
       "      <th>prod_sub_cat_code</th>\n",
       "      <th>prod_subcat</th>\n",
       "    </tr>\n",
       "  </thead>\n",
       "  <tbody>\n",
       "    <tr>\n",
       "      <th>0</th>\n",
       "      <td>1</td>\n",
       "      <td>Clothing</td>\n",
       "      <td>4</td>\n",
       "      <td>Mens</td>\n",
       "    </tr>\n",
       "    <tr>\n",
       "      <th>1</th>\n",
       "      <td>1</td>\n",
       "      <td>Clothing</td>\n",
       "      <td>1</td>\n",
       "      <td>Women</td>\n",
       "    </tr>\n",
       "    <tr>\n",
       "      <th>2</th>\n",
       "      <td>1</td>\n",
       "      <td>Clothing</td>\n",
       "      <td>3</td>\n",
       "      <td>Kids</td>\n",
       "    </tr>\n",
       "    <tr>\n",
       "      <th>3</th>\n",
       "      <td>2</td>\n",
       "      <td>Footwear</td>\n",
       "      <td>1</td>\n",
       "      <td>Mens</td>\n",
       "    </tr>\n",
       "    <tr>\n",
       "      <th>4</th>\n",
       "      <td>2</td>\n",
       "      <td>Footwear</td>\n",
       "      <td>3</td>\n",
       "      <td>Women</td>\n",
       "    </tr>\n",
       "    <tr>\n",
       "      <th>5</th>\n",
       "      <td>2</td>\n",
       "      <td>Footwear</td>\n",
       "      <td>4</td>\n",
       "      <td>Kids</td>\n",
       "    </tr>\n",
       "    <tr>\n",
       "      <th>6</th>\n",
       "      <td>3</td>\n",
       "      <td>Electronics</td>\n",
       "      <td>4</td>\n",
       "      <td>Mobiles</td>\n",
       "    </tr>\n",
       "    <tr>\n",
       "      <th>7</th>\n",
       "      <td>3</td>\n",
       "      <td>Electronics</td>\n",
       "      <td>5</td>\n",
       "      <td>Computers</td>\n",
       "    </tr>\n",
       "    <tr>\n",
       "      <th>8</th>\n",
       "      <td>3</td>\n",
       "      <td>Electronics</td>\n",
       "      <td>8</td>\n",
       "      <td>Personal Appliances</td>\n",
       "    </tr>\n",
       "    <tr>\n",
       "      <th>9</th>\n",
       "      <td>3</td>\n",
       "      <td>Electronics</td>\n",
       "      <td>9</td>\n",
       "      <td>Cameras</td>\n",
       "    </tr>\n",
       "    <tr>\n",
       "      <th>10</th>\n",
       "      <td>3</td>\n",
       "      <td>Electronics</td>\n",
       "      <td>10</td>\n",
       "      <td>Audio and video</td>\n",
       "    </tr>\n",
       "    <tr>\n",
       "      <th>11</th>\n",
       "      <td>4</td>\n",
       "      <td>Bags</td>\n",
       "      <td>1</td>\n",
       "      <td>Mens</td>\n",
       "    </tr>\n",
       "    <tr>\n",
       "      <th>12</th>\n",
       "      <td>4</td>\n",
       "      <td>Bags</td>\n",
       "      <td>4</td>\n",
       "      <td>Women</td>\n",
       "    </tr>\n",
       "    <tr>\n",
       "      <th>13</th>\n",
       "      <td>5</td>\n",
       "      <td>Books</td>\n",
       "      <td>7</td>\n",
       "      <td>Fiction</td>\n",
       "    </tr>\n",
       "    <tr>\n",
       "      <th>14</th>\n",
       "      <td>5</td>\n",
       "      <td>Books</td>\n",
       "      <td>12</td>\n",
       "      <td>Academic</td>\n",
       "    </tr>\n",
       "    <tr>\n",
       "      <th>15</th>\n",
       "      <td>5</td>\n",
       "      <td>Books</td>\n",
       "      <td>10</td>\n",
       "      <td>Non-Fiction</td>\n",
       "    </tr>\n",
       "    <tr>\n",
       "      <th>16</th>\n",
       "      <td>5</td>\n",
       "      <td>Books</td>\n",
       "      <td>11</td>\n",
       "      <td>Children</td>\n",
       "    </tr>\n",
       "    <tr>\n",
       "      <th>17</th>\n",
       "      <td>5</td>\n",
       "      <td>Books</td>\n",
       "      <td>3</td>\n",
       "      <td>Comics</td>\n",
       "    </tr>\n",
       "    <tr>\n",
       "      <th>18</th>\n",
       "      <td>5</td>\n",
       "      <td>Books</td>\n",
       "      <td>6</td>\n",
       "      <td>DIY</td>\n",
       "    </tr>\n",
       "    <tr>\n",
       "      <th>19</th>\n",
       "      <td>6</td>\n",
       "      <td>Home and kitchen</td>\n",
       "      <td>2</td>\n",
       "      <td>Furnishing</td>\n",
       "    </tr>\n",
       "    <tr>\n",
       "      <th>20</th>\n",
       "      <td>6</td>\n",
       "      <td>Home and kitchen</td>\n",
       "      <td>10</td>\n",
       "      <td>Kitchen</td>\n",
       "    </tr>\n",
       "    <tr>\n",
       "      <th>21</th>\n",
       "      <td>6</td>\n",
       "      <td>Home and kitchen</td>\n",
       "      <td>11</td>\n",
       "      <td>Bath</td>\n",
       "    </tr>\n",
       "    <tr>\n",
       "      <th>22</th>\n",
       "      <td>6</td>\n",
       "      <td>Home and kitchen</td>\n",
       "      <td>12</td>\n",
       "      <td>Tools</td>\n",
       "    </tr>\n",
       "  </tbody>\n",
       "</table>\n",
       "</div>"
      ],
      "text/plain": [
       "    prod_cat_code          prod_cat  prod_sub_cat_code          prod_subcat\n",
       "0               1          Clothing                  4                 Mens\n",
       "1               1          Clothing                  1                Women\n",
       "2               1          Clothing                  3                 Kids\n",
       "3               2          Footwear                  1                 Mens\n",
       "4               2          Footwear                  3                Women\n",
       "5               2          Footwear                  4                 Kids\n",
       "6               3       Electronics                  4              Mobiles\n",
       "7               3       Electronics                  5            Computers\n",
       "8               3       Electronics                  8  Personal Appliances\n",
       "9               3       Electronics                  9              Cameras\n",
       "10              3       Electronics                 10      Audio and video\n",
       "11              4              Bags                  1                 Mens\n",
       "12              4              Bags                  4                Women\n",
       "13              5             Books                  7              Fiction\n",
       "14              5             Books                 12             Academic\n",
       "15              5             Books                 10          Non-Fiction\n",
       "16              5             Books                 11             Children\n",
       "17              5             Books                  3               Comics\n",
       "18              5             Books                  6                  DIY\n",
       "19              6  Home and kitchen                  2           Furnishing\n",
       "20              6  Home and kitchen                 10              Kitchen\n",
       "21              6  Home and kitchen                 11                 Bath\n",
       "22              6  Home and kitchen                 12                Tools"
      ]
     },
     "execution_count": 9,
     "metadata": {},
     "output_type": "execute_result"
    }
   ],
   "source": [
    "prod_info"
   ]
  },
  {
   "cell_type": "code",
   "execution_count": 10,
   "id": "1950afaf-3cae-44d0-9f1d-c659269d8676",
   "metadata": {
    "tags": []
   },
   "outputs": [],
   "source": [
    "#creating a new column as join id for joining purpose\n",
    "prod_info[\"join_id\"]=prod_info[\"prod_cat_code\"].astype(str)+\" \"+prod_info[\"prod_sub_cat_code\"].astype(str)"
   ]
  },
  {
   "cell_type": "code",
   "execution_count": 11,
   "id": "b383512f-cdcd-459f-bf13-2a210c6578bd",
   "metadata": {
    "tags": []
   },
   "outputs": [],
   "source": [
    "prod_info.drop(columns=[\"prod_cat_code\",\"prod_sub_cat_code\"],inplace=True)"
   ]
  },
  {
   "cell_type": "code",
   "execution_count": 12,
   "id": "077a03d1-0b6b-430f-9fae-afc2abccf841",
   "metadata": {
    "tags": []
   },
   "outputs": [
    {
     "data": {
      "text/html": [
       "<div>\n",
       "<style scoped>\n",
       "    .dataframe tbody tr th:only-of-type {\n",
       "        vertical-align: middle;\n",
       "    }\n",
       "\n",
       "    .dataframe tbody tr th {\n",
       "        vertical-align: top;\n",
       "    }\n",
       "\n",
       "    .dataframe thead th {\n",
       "        text-align: right;\n",
       "    }\n",
       "</style>\n",
       "<table border=\"1\" class=\"dataframe\">\n",
       "  <thead>\n",
       "    <tr style=\"text-align: right;\">\n",
       "      <th></th>\n",
       "      <th>prod_cat</th>\n",
       "      <th>prod_subcat</th>\n",
       "      <th>join_id</th>\n",
       "    </tr>\n",
       "  </thead>\n",
       "  <tbody>\n",
       "    <tr>\n",
       "      <th>0</th>\n",
       "      <td>Clothing</td>\n",
       "      <td>Mens</td>\n",
       "      <td>1 4</td>\n",
       "    </tr>\n",
       "    <tr>\n",
       "      <th>1</th>\n",
       "      <td>Clothing</td>\n",
       "      <td>Women</td>\n",
       "      <td>1 1</td>\n",
       "    </tr>\n",
       "    <tr>\n",
       "      <th>2</th>\n",
       "      <td>Clothing</td>\n",
       "      <td>Kids</td>\n",
       "      <td>1 3</td>\n",
       "    </tr>\n",
       "    <tr>\n",
       "      <th>3</th>\n",
       "      <td>Footwear</td>\n",
       "      <td>Mens</td>\n",
       "      <td>2 1</td>\n",
       "    </tr>\n",
       "    <tr>\n",
       "      <th>4</th>\n",
       "      <td>Footwear</td>\n",
       "      <td>Women</td>\n",
       "      <td>2 3</td>\n",
       "    </tr>\n",
       "  </tbody>\n",
       "</table>\n",
       "</div>"
      ],
      "text/plain": [
       "   prod_cat prod_subcat join_id\n",
       "0  Clothing        Mens     1 4\n",
       "1  Clothing       Women     1 1\n",
       "2  Clothing        Kids     1 3\n",
       "3  Footwear        Mens     2 1\n",
       "4  Footwear       Women     2 3"
      ]
     },
     "execution_count": 12,
     "metadata": {},
     "output_type": "execute_result"
    }
   ],
   "source": [
    "prod_info.head(5)"
   ]
  },
  {
   "cell_type": "markdown",
   "id": "2b2d2bd1-17ef-4ef0-8a63-5e28dce6a8a2",
   "metadata": {},
   "source": [
    "# EDA(Exploratory Data analysis)"
   ]
  },
  {
   "cell_type": "markdown",
   "id": "2bc2e8f9-698e-4bf3-9bca-55c87ff946f2",
   "metadata": {},
   "source": [
    "### Deleting Unwanted column which we dont need"
   ]
  },
  {
   "cell_type": "code",
   "execution_count": 13,
   "id": "7d2c6d91-4b34-4f60-b807-e8aa1d76650e",
   "metadata": {
    "tags": []
   },
   "outputs": [],
   "source": [
    "#Storing the column name in a variables whicch we need to delete\n",
    "u_clm=['Unnamed: 4', 'Unnamed: 5',\n",
    "       'Unnamed: 6', 'Unnamed: 7']"
   ]
  },
  {
   "cell_type": "code",
   "execution_count": 14,
   "id": "3ea82a1d-62c2-403e-a3f5-2e3a7b4590b1",
   "metadata": {
    "tags": []
   },
   "outputs": [],
   "source": [
    "#deleting unwanted column form the dataset \n",
    "cust_data.drop(columns=u_clm,inplace=True)"
   ]
  },
  {
   "cell_type": "code",
   "execution_count": 15,
   "id": "52a1703a-0e49-447e-9619-88761af9ddf5",
   "metadata": {
    "tags": []
   },
   "outputs": [
    {
     "data": {
      "text/html": [
       "<div>\n",
       "<style scoped>\n",
       "    .dataframe tbody tr th:only-of-type {\n",
       "        vertical-align: middle;\n",
       "    }\n",
       "\n",
       "    .dataframe tbody tr th {\n",
       "        vertical-align: top;\n",
       "    }\n",
       "\n",
       "    .dataframe thead th {\n",
       "        text-align: right;\n",
       "    }\n",
       "</style>\n",
       "<table border=\"1\" class=\"dataframe\">\n",
       "  <thead>\n",
       "    <tr style=\"text-align: right;\">\n",
       "      <th></th>\n",
       "      <th>customer_Id</th>\n",
       "      <th>DOB</th>\n",
       "      <th>Gender</th>\n",
       "      <th>city_code</th>\n",
       "    </tr>\n",
       "  </thead>\n",
       "  <tbody>\n",
       "    <tr>\n",
       "      <th>0</th>\n",
       "      <td>268408</td>\n",
       "      <td>01-02-1970</td>\n",
       "      <td>M</td>\n",
       "      <td>4.0</td>\n",
       "    </tr>\n",
       "    <tr>\n",
       "      <th>1</th>\n",
       "      <td>269696</td>\n",
       "      <td>01-07-1970</td>\n",
       "      <td>F</td>\n",
       "      <td>8.0</td>\n",
       "    </tr>\n",
       "    <tr>\n",
       "      <th>2</th>\n",
       "      <td>268159</td>\n",
       "      <td>01-08-1970</td>\n",
       "      <td>F</td>\n",
       "      <td>8.0</td>\n",
       "    </tr>\n",
       "    <tr>\n",
       "      <th>3</th>\n",
       "      <td>270181</td>\n",
       "      <td>01-10-1970</td>\n",
       "      <td>F</td>\n",
       "      <td>2.0</td>\n",
       "    </tr>\n",
       "    <tr>\n",
       "      <th>4</th>\n",
       "      <td>268073</td>\n",
       "      <td>01-11-1970</td>\n",
       "      <td>M</td>\n",
       "      <td>1.0</td>\n",
       "    </tr>\n",
       "    <tr>\n",
       "      <th>...</th>\n",
       "      <td>...</td>\n",
       "      <td>...</td>\n",
       "      <td>...</td>\n",
       "      <td>...</td>\n",
       "    </tr>\n",
       "    <tr>\n",
       "      <th>5642</th>\n",
       "      <td>274474</td>\n",
       "      <td>19-12-1992</td>\n",
       "      <td>M</td>\n",
       "      <td>2.0</td>\n",
       "    </tr>\n",
       "    <tr>\n",
       "      <th>5643</th>\n",
       "      <td>267666</td>\n",
       "      <td>24-12-1992</td>\n",
       "      <td>M</td>\n",
       "      <td>6.0</td>\n",
       "    </tr>\n",
       "    <tr>\n",
       "      <th>5644</th>\n",
       "      <td>270476</td>\n",
       "      <td>25-12-1992</td>\n",
       "      <td>F</td>\n",
       "      <td>3.0</td>\n",
       "    </tr>\n",
       "    <tr>\n",
       "      <th>5645</th>\n",
       "      <td>269626</td>\n",
       "      <td>27-12-1992</td>\n",
       "      <td>F</td>\n",
       "      <td>5.0</td>\n",
       "    </tr>\n",
       "    <tr>\n",
       "      <th>5646</th>\n",
       "      <td>274308</td>\n",
       "      <td>29-12-1992</td>\n",
       "      <td>F</td>\n",
       "      <td>5.0</td>\n",
       "    </tr>\n",
       "  </tbody>\n",
       "</table>\n",
       "<p>5647 rows × 4 columns</p>\n",
       "</div>"
      ],
      "text/plain": [
       "      customer_Id         DOB Gender  city_code\n",
       "0          268408  01-02-1970      M        4.0\n",
       "1          269696  01-07-1970      F        8.0\n",
       "2          268159  01-08-1970      F        8.0\n",
       "3          270181  01-10-1970      F        2.0\n",
       "4          268073  01-11-1970      M        1.0\n",
       "...           ...         ...    ...        ...\n",
       "5642       274474  19-12-1992      M        2.0\n",
       "5643       267666  24-12-1992      M        6.0\n",
       "5644       270476  25-12-1992      F        3.0\n",
       "5645       269626  27-12-1992      F        5.0\n",
       "5646       274308  29-12-1992      F        5.0\n",
       "\n",
       "[5647 rows x 4 columns]"
      ]
     },
     "execution_count": 15,
     "metadata": {},
     "output_type": "execute_result"
    }
   ],
   "source": [
    "cust_data"
   ]
  },
  {
   "cell_type": "code",
   "execution_count": 16,
   "id": "c6ecafad-86eb-4bbc-9417-31a61c661e02",
   "metadata": {
    "tags": []
   },
   "outputs": [],
   "source": [
    "trans_data1 = pd.merge(trans_data, prod_info, on='join_id', how='inner')"
   ]
  },
  {
   "cell_type": "code",
   "execution_count": 17,
   "id": "5911b7cb-54bd-4135-9f35-08a7f3dc1f52",
   "metadata": {
    "tags": []
   },
   "outputs": [
    {
     "data": {
      "text/html": [
       "<div>\n",
       "<style scoped>\n",
       "    .dataframe tbody tr th:only-of-type {\n",
       "        vertical-align: middle;\n",
       "    }\n",
       "\n",
       "    .dataframe tbody tr th {\n",
       "        vertical-align: top;\n",
       "    }\n",
       "\n",
       "    .dataframe thead th {\n",
       "        text-align: right;\n",
       "    }\n",
       "</style>\n",
       "<table border=\"1\" class=\"dataframe\">\n",
       "  <thead>\n",
       "    <tr style=\"text-align: right;\">\n",
       "      <th></th>\n",
       "      <th>transaction_id</th>\n",
       "      <th>cust_id</th>\n",
       "      <th>tran_date</th>\n",
       "      <th>prod_subcat_code</th>\n",
       "      <th>prod_cat_code</th>\n",
       "      <th>Qty</th>\n",
       "      <th>Rate</th>\n",
       "      <th>Tax</th>\n",
       "      <th>total_amt</th>\n",
       "      <th>Store_type</th>\n",
       "      <th>join_id</th>\n",
       "      <th>prod_cat</th>\n",
       "      <th>prod_subcat</th>\n",
       "    </tr>\n",
       "  </thead>\n",
       "  <tbody>\n",
       "    <tr>\n",
       "      <th>0</th>\n",
       "      <td>80712190438</td>\n",
       "      <td>270351</td>\n",
       "      <td>28-02-2014</td>\n",
       "      <td>1</td>\n",
       "      <td>1</td>\n",
       "      <td>-5</td>\n",
       "      <td>-772</td>\n",
       "      <td>405.3</td>\n",
       "      <td>-4265.3</td>\n",
       "      <td>e-Shop</td>\n",
       "      <td>1 1</td>\n",
       "      <td>Clothing</td>\n",
       "      <td>Women</td>\n",
       "    </tr>\n",
       "  </tbody>\n",
       "</table>\n",
       "</div>"
      ],
      "text/plain": [
       "   transaction_id  cust_id   tran_date  prod_subcat_code  prod_cat_code  Qty  \\\n",
       "0     80712190438   270351  28-02-2014                 1              1   -5   \n",
       "\n",
       "   Rate    Tax  total_amt Store_type join_id  prod_cat prod_subcat  \n",
       "0  -772  405.3    -4265.3     e-Shop     1 1  Clothing       Women  "
      ]
     },
     "execution_count": 17,
     "metadata": {},
     "output_type": "execute_result"
    }
   ],
   "source": [
    "trans_data1.head(1)"
   ]
  },
  {
   "cell_type": "code",
   "execution_count": 18,
   "id": "7118c09a-76c8-4223-9ec4-69d34622d7ec",
   "metadata": {
    "tags": []
   },
   "outputs": [],
   "source": [
    "#changing the column name into customer_id for joining purpose \n",
    "trans_data1.rename(columns={'cust_id': 'customer_Id'}, inplace=True)"
   ]
  },
  {
   "cell_type": "code",
   "execution_count": 19,
   "id": "6312a2ff-8a9b-40d7-9b54-1fb4df047a2a",
   "metadata": {
    "tags": []
   },
   "outputs": [
    {
     "data": {
      "text/html": [
       "<div>\n",
       "<style scoped>\n",
       "    .dataframe tbody tr th:only-of-type {\n",
       "        vertical-align: middle;\n",
       "    }\n",
       "\n",
       "    .dataframe tbody tr th {\n",
       "        vertical-align: top;\n",
       "    }\n",
       "\n",
       "    .dataframe thead th {\n",
       "        text-align: right;\n",
       "    }\n",
       "</style>\n",
       "<table border=\"1\" class=\"dataframe\">\n",
       "  <thead>\n",
       "    <tr style=\"text-align: right;\">\n",
       "      <th></th>\n",
       "      <th>transaction_id</th>\n",
       "      <th>customer_Id</th>\n",
       "      <th>tran_date</th>\n",
       "      <th>prod_subcat_code</th>\n",
       "      <th>prod_cat_code</th>\n",
       "      <th>Qty</th>\n",
       "      <th>Rate</th>\n",
       "      <th>Tax</th>\n",
       "      <th>total_amt</th>\n",
       "      <th>Store_type</th>\n",
       "      <th>join_id</th>\n",
       "      <th>prod_cat</th>\n",
       "      <th>prod_subcat</th>\n",
       "    </tr>\n",
       "  </thead>\n",
       "  <tbody>\n",
       "    <tr>\n",
       "      <th>0</th>\n",
       "      <td>80712190438</td>\n",
       "      <td>270351</td>\n",
       "      <td>28-02-2014</td>\n",
       "      <td>1</td>\n",
       "      <td>1</td>\n",
       "      <td>-5</td>\n",
       "      <td>-772</td>\n",
       "      <td>405.3</td>\n",
       "      <td>-4265.3</td>\n",
       "      <td>e-Shop</td>\n",
       "      <td>1 1</td>\n",
       "      <td>Clothing</td>\n",
       "      <td>Women</td>\n",
       "    </tr>\n",
       "  </tbody>\n",
       "</table>\n",
       "</div>"
      ],
      "text/plain": [
       "   transaction_id  customer_Id   tran_date  prod_subcat_code  prod_cat_code  \\\n",
       "0     80712190438       270351  28-02-2014                 1              1   \n",
       "\n",
       "   Qty  Rate    Tax  total_amt Store_type join_id  prod_cat prod_subcat  \n",
       "0   -5  -772  405.3    -4265.3     e-Shop     1 1  Clothing       Women  "
      ]
     },
     "execution_count": 19,
     "metadata": {},
     "output_type": "execute_result"
    }
   ],
   "source": [
    "trans_data1.head(1)"
   ]
  },
  {
   "cell_type": "markdown",
   "id": "dd792f0f-267f-46a1-9ff4-89b7c9aae47f",
   "metadata": {},
   "source": [
    "## Merging Two dataset Using Inner join"
   ]
  },
  {
   "cell_type": "code",
   "execution_count": 20,
   "id": "cf58cebf-1c65-47c6-a818-de77351a0209",
   "metadata": {
    "tags": []
   },
   "outputs": [],
   "source": [
    "#Joing the data using inner join technique and customer Id is our common column \n",
    "merged_d = pd.merge(cust_data, trans_data1, on='customer_Id', how='inner')"
   ]
  },
  {
   "cell_type": "code",
   "execution_count": 21,
   "id": "0b8b9229-477f-434c-b19f-61fb38027b55",
   "metadata": {
    "tags": []
   },
   "outputs": [
    {
     "data": {
      "text/html": [
       "<div>\n",
       "<style scoped>\n",
       "    .dataframe tbody tr th:only-of-type {\n",
       "        vertical-align: middle;\n",
       "    }\n",
       "\n",
       "    .dataframe tbody tr th {\n",
       "        vertical-align: top;\n",
       "    }\n",
       "\n",
       "    .dataframe thead th {\n",
       "        text-align: right;\n",
       "    }\n",
       "</style>\n",
       "<table border=\"1\" class=\"dataframe\">\n",
       "  <thead>\n",
       "    <tr style=\"text-align: right;\">\n",
       "      <th></th>\n",
       "      <th>customer_Id</th>\n",
       "      <th>DOB</th>\n",
       "      <th>Gender</th>\n",
       "      <th>city_code</th>\n",
       "      <th>transaction_id</th>\n",
       "      <th>tran_date</th>\n",
       "      <th>prod_subcat_code</th>\n",
       "      <th>prod_cat_code</th>\n",
       "      <th>Qty</th>\n",
       "      <th>Rate</th>\n",
       "      <th>Tax</th>\n",
       "      <th>total_amt</th>\n",
       "      <th>Store_type</th>\n",
       "      <th>join_id</th>\n",
       "      <th>prod_cat</th>\n",
       "      <th>prod_subcat</th>\n",
       "    </tr>\n",
       "  </thead>\n",
       "  <tbody>\n",
       "    <tr>\n",
       "      <th>0</th>\n",
       "      <td>268408</td>\n",
       "      <td>01-02-1970</td>\n",
       "      <td>M</td>\n",
       "      <td>4.0</td>\n",
       "      <td>63314547725</td>\n",
       "      <td>26-04-2012</td>\n",
       "      <td>1</td>\n",
       "      <td>1</td>\n",
       "      <td>1</td>\n",
       "      <td>806</td>\n",
       "      <td>84.630</td>\n",
       "      <td>890.630</td>\n",
       "      <td>Flagship store</td>\n",
       "      <td>1 1</td>\n",
       "      <td>Clothing</td>\n",
       "      <td>Women</td>\n",
       "    </tr>\n",
       "    <tr>\n",
       "      <th>1</th>\n",
       "      <td>268408</td>\n",
       "      <td>01-02-1970</td>\n",
       "      <td>M</td>\n",
       "      <td>4.0</td>\n",
       "      <td>87243835584</td>\n",
       "      <td>13-01-2014</td>\n",
       "      <td>7</td>\n",
       "      <td>5</td>\n",
       "      <td>5</td>\n",
       "      <td>187</td>\n",
       "      <td>98.175</td>\n",
       "      <td>1033.175</td>\n",
       "      <td>TeleShop</td>\n",
       "      <td>5 7</td>\n",
       "      <td>Books</td>\n",
       "      <td>Fiction</td>\n",
       "    </tr>\n",
       "    <tr>\n",
       "      <th>2</th>\n",
       "      <td>268408</td>\n",
       "      <td>01-02-1970</td>\n",
       "      <td>M</td>\n",
       "      <td>4.0</td>\n",
       "      <td>12644501524</td>\n",
       "      <td>14-08-2012</td>\n",
       "      <td>4</td>\n",
       "      <td>4</td>\n",
       "      <td>3</td>\n",
       "      <td>321</td>\n",
       "      <td>101.115</td>\n",
       "      <td>1064.115</td>\n",
       "      <td>TeleShop</td>\n",
       "      <td>4 4</td>\n",
       "      <td>Bags</td>\n",
       "      <td>Women</td>\n",
       "    </tr>\n",
       "  </tbody>\n",
       "</table>\n",
       "</div>"
      ],
      "text/plain": [
       "   customer_Id         DOB Gender  city_code  transaction_id   tran_date  \\\n",
       "0       268408  01-02-1970      M        4.0     63314547725  26-04-2012   \n",
       "1       268408  01-02-1970      M        4.0     87243835584  13-01-2014   \n",
       "2       268408  01-02-1970      M        4.0     12644501524  14-08-2012   \n",
       "\n",
       "   prod_subcat_code  prod_cat_code  Qty  Rate      Tax  total_amt  \\\n",
       "0                 1              1    1   806   84.630    890.630   \n",
       "1                 7              5    5   187   98.175   1033.175   \n",
       "2                 4              4    3   321  101.115   1064.115   \n",
       "\n",
       "       Store_type join_id  prod_cat prod_subcat  \n",
       "0  Flagship store     1 1  Clothing       Women  \n",
       "1        TeleShop     5 7     Books     Fiction  \n",
       "2        TeleShop     4 4      Bags       Women  "
      ]
     },
     "execution_count": 21,
     "metadata": {},
     "output_type": "execute_result"
    }
   ],
   "source": [
    "merged_d.head(3)"
   ]
  },
  {
   "cell_type": "code",
   "execution_count": 22,
   "id": "3fdc1eeb-7992-49c3-8dd2-ef27421ea709",
   "metadata": {
    "tags": []
   },
   "outputs": [],
   "source": [
    "#creating a Column Status where the total_amt is negative status will be returned and\n",
    "#where total_amt is positive there will be  accepted\n",
    "merged_d[\"Status\"] = merged_d[\"total_amt\"].apply(lambda x: \"Returned\" if x<0 else \"Accepted\")"
   ]
  },
  {
   "cell_type": "code",
   "execution_count": 23,
   "id": "2f9bcfa6-3360-4d5e-9c22-16e219ee4d66",
   "metadata": {},
   "outputs": [
    {
     "name": "stdout",
     "output_type": "stream",
     "text": [
      "<class 'pandas.core.frame.DataFrame'>\n",
      "RangeIndex: 23053 entries, 0 to 23052\n",
      "Data columns (total 17 columns):\n",
      " #   Column            Non-Null Count  Dtype  \n",
      "---  ------            --------------  -----  \n",
      " 0   customer_Id       23053 non-null  int64  \n",
      " 1   DOB               23053 non-null  object \n",
      " 2   Gender            23044 non-null  object \n",
      " 3   city_code         23045 non-null  float64\n",
      " 4   transaction_id    23053 non-null  int64  \n",
      " 5   tran_date         23053 non-null  object \n",
      " 6   prod_subcat_code  23053 non-null  int64  \n",
      " 7   prod_cat_code     23053 non-null  int64  \n",
      " 8   Qty               23053 non-null  int64  \n",
      " 9   Rate              23053 non-null  int64  \n",
      " 10  Tax               23053 non-null  float64\n",
      " 11  total_amt         23053 non-null  float64\n",
      " 12  Store_type        23053 non-null  object \n",
      " 13  join_id           23053 non-null  object \n",
      " 14  prod_cat          23053 non-null  object \n",
      " 15  prod_subcat       23053 non-null  object \n",
      " 16  Status            23053 non-null  object \n",
      "dtypes: float64(3), int64(6), object(8)\n",
      "memory usage: 3.0+ MB\n"
     ]
    }
   ],
   "source": [
    "#checking the Info of our dataset \n",
    "merged_d.info()"
   ]
  },
  {
   "cell_type": "code",
   "execution_count": 24,
   "id": "ade5627b-4529-439f-a2b1-ba7a368b1513",
   "metadata": {
    "tags": []
   },
   "outputs": [
    {
     "data": {
      "text/plain": [
       "customer_Id         0\n",
       "DOB                 0\n",
       "Gender              9\n",
       "city_code           8\n",
       "transaction_id      0\n",
       "tran_date           0\n",
       "prod_subcat_code    0\n",
       "prod_cat_code       0\n",
       "Qty                 0\n",
       "Rate                0\n",
       "Tax                 0\n",
       "total_amt           0\n",
       "Store_type          0\n",
       "join_id             0\n",
       "prod_cat            0\n",
       "prod_subcat         0\n",
       "Status              0\n",
       "dtype: int64"
      ]
     },
     "execution_count": 24,
     "metadata": {},
     "output_type": "execute_result"
    }
   ],
   "source": [
    "#checking the null values \n",
    "merged_d.isnull().sum()"
   ]
  },
  {
   "cell_type": "code",
   "execution_count": 25,
   "id": "eefe763f-95ff-4168-9736-82088169412b",
   "metadata": {},
   "outputs": [],
   "source": [
    "#replacing the null values \n",
    "merged_d[\"Gender\"].fillna(merged_d[\"Gender\"].fillna(\"M\"),inplace=True)\n",
    "merged_d[\"city_code\"].fillna(merged_d[\"city_code\"].fillna(\"4\"),inplace=True)"
   ]
  },
  {
   "cell_type": "code",
   "execution_count": 26,
   "id": "feb5b055-6b78-42de-aa95-305314ce86da",
   "metadata": {
    "tags": []
   },
   "outputs": [
    {
     "name": "stdout",
     "output_type": "stream",
     "text": [
      "customer_Id         0\n",
      "DOB                 0\n",
      "Gender              0\n",
      "city_code           0\n",
      "transaction_id      0\n",
      "tran_date           0\n",
      "prod_subcat_code    0\n",
      "prod_cat_code       0\n",
      "Qty                 0\n",
      "Rate                0\n",
      "Tax                 0\n",
      "total_amt           0\n",
      "Store_type          0\n",
      "join_id             0\n",
      "prod_cat            0\n",
      "prod_subcat         0\n",
      "Status              0\n",
      "dtype: int64\n"
     ]
    }
   ],
   "source": [
    "#removing the Null values using Drop_na #replace the null values acording to sir \n",
    "print(merged_d.isnull().sum())"
   ]
  },
  {
   "cell_type": "code",
   "execution_count": 27,
   "id": "a5ca3012-62ca-4399-a935-f602ecb3de88",
   "metadata": {
    "tags": []
   },
   "outputs": [
    {
     "name": "stdout",
     "output_type": "stream",
     "text": [
      "We have 13 Duplicates values\n",
      "After removing duplicates we have 0 duplicates values\n"
     ]
    }
   ],
   "source": [
    "#checking for duplicates \n",
    "print(f\"We have {merged_d.duplicated().sum()} Duplicates values\")\n",
    "#removing them\n",
    "merged_d.drop_duplicates(inplace=True)\n",
    "#Print duplicates after removing them \n",
    "print(f\"After removing duplicates we have {merged_d.duplicated().sum()} duplicates values\")\n"
   ]
  },
  {
   "cell_type": "code",
   "execution_count": 28,
   "id": "b23f0a23-a112-46c4-ac05-031e3e596349",
   "metadata": {
    "tags": []
   },
   "outputs": [],
   "source": [
    "merged_d.to_csv(\"merged_data.csv\",index=False)"
   ]
  },
  {
   "cell_type": "code",
   "execution_count": 29,
   "id": "95c26573-4ad3-4859-bc5b-c09a73cad93e",
   "metadata": {},
   "outputs": [],
   "source": [
    "# checking the value counts of category varibales store_type\n",
    "value_count=merged_d[\"Store_type\"].value_counts()"
   ]
  },
  {
   "cell_type": "code",
   "execution_count": 30,
   "id": "fd5a7060-8a72-4e07-bb40-55e0c84ac8a6",
   "metadata": {
    "tags": []
   },
   "outputs": [
    {
     "data": {
      "image/png": "[encoded data removed]",
      "text/plain": [
       "<Figure size 400x800 with 1 Axes>"
      ]
     },
     "metadata": {},
     "output_type": "display_data"
    }
   ],
   "source": [
    "plt.figure(figsize=(4,8))\n",
    "plt.pie(value_count,labels=value_count.index,autopct='%1.1f%%', startangle=140)\n",
    "plt.show()"
   ]
  },
  {
   "cell_type": "code",
   "execution_count": 31,
   "id": "68839b01-2c26-46c6-b261-493c61c0b6fa",
   "metadata": {
    "tags": []
   },
   "outputs": [],
   "source": [
    "#Encoding the some column using where method form numpy and label encoder \n",
    "merged_d[\"Gender\"]=np.where(merged_d[\"Gender\"]=='M',1,0)\n",
    "merged_d[\"Status\"]=np.where(merged_d[\"Status\"]=='Accepted',1,0)\n",
    "# Initialize LabelEncoder\n",
    "label_encoder = LabelEncoder()\n",
    "merged_d['Store_type'] = label_encoder.fit_transform(merged_d['Store_type'])"
   ]
  },
  {
   "cell_type": "code",
   "execution_count": 32,
   "id": "939f8517-afd1-4623-999e-231a500b643d",
   "metadata": {
    "tags": []
   },
   "outputs": [
    {
     "data": {
      "text/html": [
       "<div>\n",
       "<style scoped>\n",
       "    .dataframe tbody tr th:only-of-type {\n",
       "        vertical-align: middle;\n",
       "    }\n",
       "\n",
       "    .dataframe tbody tr th {\n",
       "        vertical-align: top;\n",
       "    }\n",
       "\n",
       "    .dataframe thead th {\n",
       "        text-align: right;\n",
       "    }\n",
       "</style>\n",
       "<table border=\"1\" class=\"dataframe\">\n",
       "  <thead>\n",
       "    <tr style=\"text-align: right;\">\n",
       "      <th></th>\n",
       "      <th>customer_Id</th>\n",
       "      <th>DOB</th>\n",
       "      <th>Gender</th>\n",
       "      <th>city_code</th>\n",
       "      <th>transaction_id</th>\n",
       "      <th>tran_date</th>\n",
       "      <th>prod_subcat_code</th>\n",
       "      <th>prod_cat_code</th>\n",
       "      <th>Qty</th>\n",
       "      <th>Rate</th>\n",
       "      <th>Tax</th>\n",
       "      <th>total_amt</th>\n",
       "      <th>Store_type</th>\n",
       "      <th>join_id</th>\n",
       "      <th>prod_cat</th>\n",
       "      <th>prod_subcat</th>\n",
       "      <th>Status</th>\n",
       "    </tr>\n",
       "  </thead>\n",
       "  <tbody>\n",
       "    <tr>\n",
       "      <th>0</th>\n",
       "      <td>268408</td>\n",
       "      <td>01-02-1970</td>\n",
       "      <td>1</td>\n",
       "      <td>4.0</td>\n",
       "      <td>63314547725</td>\n",
       "      <td>26-04-2012</td>\n",
       "      <td>1</td>\n",
       "      <td>1</td>\n",
       "      <td>1</td>\n",
       "      <td>806</td>\n",
       "      <td>84.630</td>\n",
       "      <td>890.630</td>\n",
       "      <td>0</td>\n",
       "      <td>1 1</td>\n",
       "      <td>Clothing</td>\n",
       "      <td>Women</td>\n",
       "      <td>1</td>\n",
       "    </tr>\n",
       "    <tr>\n",
       "      <th>1</th>\n",
       "      <td>268408</td>\n",
       "      <td>01-02-1970</td>\n",
       "      <td>1</td>\n",
       "      <td>4.0</td>\n",
       "      <td>87243835584</td>\n",
       "      <td>13-01-2014</td>\n",
       "      <td>7</td>\n",
       "      <td>5</td>\n",
       "      <td>5</td>\n",
       "      <td>187</td>\n",
       "      <td>98.175</td>\n",
       "      <td>1033.175</td>\n",
       "      <td>2</td>\n",
       "      <td>5 7</td>\n",
       "      <td>Books</td>\n",
       "      <td>Fiction</td>\n",
       "      <td>1</td>\n",
       "    </tr>\n",
       "  </tbody>\n",
       "</table>\n",
       "</div>"
      ],
      "text/plain": [
       "   customer_Id         DOB  Gender city_code  transaction_id   tran_date  \\\n",
       "0       268408  01-02-1970       1       4.0     63314547725  26-04-2012   \n",
       "1       268408  01-02-1970       1       4.0     87243835584  13-01-2014   \n",
       "\n",
       "   prod_subcat_code  prod_cat_code  Qty  Rate     Tax  total_amt  Store_type  \\\n",
       "0                 1              1    1   806  84.630    890.630           0   \n",
       "1                 7              5    5   187  98.175   1033.175           2   \n",
       "\n",
       "  join_id  prod_cat prod_subcat  Status  \n",
       "0     1 1  Clothing       Women       1  \n",
       "1     5 7     Books     Fiction       1  "
      ]
     },
     "execution_count": 32,
     "metadata": {},
     "output_type": "execute_result"
    }
   ],
   "source": [
    "merged_d.head(2)"
   ]
  },
  {
   "cell_type": "code",
   "execution_count": 33,
   "id": "4cdaf686-a89b-4437-a48f-88bff86a6fc8",
   "metadata": {
    "tags": []
   },
   "outputs": [
    {
     "data": {
      "text/html": [
       "<div>\n",
       "<style scoped>\n",
       "    .dataframe tbody tr th:only-of-type {\n",
       "        vertical-align: middle;\n",
       "    }\n",
       "\n",
       "    .dataframe tbody tr th {\n",
       "        vertical-align: top;\n",
       "    }\n",
       "\n",
       "    .dataframe thead th {\n",
       "        text-align: right;\n",
       "    }\n",
       "</style>\n",
       "<table border=\"1\" class=\"dataframe\">\n",
       "  <thead>\n",
       "    <tr style=\"text-align: right;\">\n",
       "      <th></th>\n",
       "      <th>customer_Id</th>\n",
       "      <th>DOB</th>\n",
       "      <th>Gender</th>\n",
       "      <th>city_code</th>\n",
       "      <th>transaction_id</th>\n",
       "      <th>tran_date</th>\n",
       "      <th>prod_subcat_code</th>\n",
       "      <th>prod_cat_code</th>\n",
       "      <th>Qty</th>\n",
       "      <th>Rate</th>\n",
       "      <th>Tax</th>\n",
       "      <th>total_amt</th>\n",
       "      <th>Store_type</th>\n",
       "      <th>join_id</th>\n",
       "      <th>prod_cat</th>\n",
       "      <th>prod_subcat</th>\n",
       "      <th>Status</th>\n",
       "    </tr>\n",
       "  </thead>\n",
       "  <tbody>\n",
       "    <tr>\n",
       "      <th>23051</th>\n",
       "      <td>274308</td>\n",
       "      <td>29-12-1992</td>\n",
       "      <td>0</td>\n",
       "      <td>5.0</td>\n",
       "      <td>26208690928</td>\n",
       "      <td>22-10-2012</td>\n",
       "      <td>1</td>\n",
       "      <td>2</td>\n",
       "      <td>2</td>\n",
       "      <td>898</td>\n",
       "      <td>188.58</td>\n",
       "      <td>1984.58</td>\n",
       "      <td>1</td>\n",
       "      <td>2 1</td>\n",
       "      <td>Footwear</td>\n",
       "      <td>Mens</td>\n",
       "      <td>1</td>\n",
       "    </tr>\n",
       "    <tr>\n",
       "      <th>23052</th>\n",
       "      <td>274308</td>\n",
       "      <td>29-12-1992</td>\n",
       "      <td>0</td>\n",
       "      <td>5.0</td>\n",
       "      <td>57358822237</td>\n",
       "      <td>09-05-2012</td>\n",
       "      <td>1</td>\n",
       "      <td>2</td>\n",
       "      <td>4</td>\n",
       "      <td>876</td>\n",
       "      <td>367.92</td>\n",
       "      <td>3871.92</td>\n",
       "      <td>3</td>\n",
       "      <td>2 1</td>\n",
       "      <td>Footwear</td>\n",
       "      <td>Mens</td>\n",
       "      <td>1</td>\n",
       "    </tr>\n",
       "  </tbody>\n",
       "</table>\n",
       "</div>"
      ],
      "text/plain": [
       "       customer_Id         DOB  Gender city_code  transaction_id   tran_date  \\\n",
       "23051       274308  29-12-1992       0       5.0     26208690928  22-10-2012   \n",
       "23052       274308  29-12-1992       0       5.0     57358822237  09-05-2012   \n",
       "\n",
       "       prod_subcat_code  prod_cat_code  Qty  Rate     Tax  total_amt  \\\n",
       "23051                 1              2    2   898  188.58    1984.58   \n",
       "23052                 1              2    4   876  367.92    3871.92   \n",
       "\n",
       "       Store_type join_id  prod_cat prod_subcat  Status  \n",
       "23051           1     2 1  Footwear        Mens       1  \n",
       "23052           3     2 1  Footwear        Mens       1  "
      ]
     },
     "execution_count": 33,
     "metadata": {},
     "output_type": "execute_result"
    }
   ],
   "source": [
    "merged_d.tail(2)"
   ]
  },
  {
   "cell_type": "markdown",
   "id": "09729192-3445-43fb-8f25-55b5af98a015",
   "metadata": {},
   "source": [
    "###  Now checking the Outliers on our dataset "
   ]
  },
  {
   "cell_type": "code",
   "execution_count": 34,
   "id": "7b135312-1616-4db2-bffd-f4f0c1ce8c86",
   "metadata": {
    "tags": []
   },
   "outputs": [],
   "source": [
    "#before finding the outliers we converted the some column in numerical column\n",
    "merged_d['Gender'] = pd.to_numeric(merged_d['Gender'], errors='coerce')\n",
    "merged_d['Store_type'] = pd.to_numeric(merged_d['Store_type'], errors='coerce')\n",
    "merged_d['Status'] = pd.to_numeric(merged_d['Status'], errors='coerce')"
   ]
  },
  {
   "cell_type": "markdown",
   "id": "b27f0034-5692-47c2-a592-0b71628ecdff",
   "metadata": {},
   "source": [
    "##### Deviding out dataset with numerical and obejct "
   ]
  },
  {
   "cell_type": "code",
   "execution_count": 35,
   "id": "b1f9d676-134c-44b8-bd6e-14f98179cc77",
   "metadata": {
    "tags": []
   },
   "outputs": [],
   "source": [
    "merged_num = merged_d.select_dtypes(['float64', 'int64', 'float32', 'int32'])\n",
    "merged_obj = merged_d.select_dtypes(['object'])"
   ]
  },
  {
   "cell_type": "code",
   "execution_count": 36,
   "id": "0732ad12-161b-4203-834f-80425c86a9c9",
   "metadata": {
    "tags": []
   },
   "outputs": [
    {
     "data": {
      "image/png": "[encoded data removed]",
      "text/plain": [
       "<Figure size 1000x100 with 1 Axes>"
      ]
     },
     "metadata": {},
     "output_type": "display_data"
    },
    {
     "data": {
      "image/png": "[encoded data removed]",
      "text/plain": [
       "<Figure size 1000x100 with 1 Axes>"
      ]
     },
     "metadata": {},
     "output_type": "display_data"
    },
    {
     "data": {
      "image/png": "[encoded data removed]",
      "text/plain": [
       "<Figure size 1000x100 with 1 Axes>"
      ]
     },
     "metadata": {},
     "output_type": "display_data"
    },
    {
     "data": {
      "image/png": "[encoded data removed]",
      "text/plain": [
       "<Figure size 1000x100 with 1 Axes>"
      ]
     },
     "metadata": {},
     "output_type": "display_data"
    },
    {
     "data": {
      "image/png": "[encoded data removed]",
      "text/plain": [
       "<Figure size 1000x100 with 1 Axes>"
      ]
     },
     "metadata": {},
     "output_type": "display_data"
    },
    {
     "data": {
      "image/png": "[encoded data removed]",
      "text/plain": [
       "<Figure size 1000x100 with 1 Axes>"
      ]
     },
     "metadata": {},
     "output_type": "display_data"
    },
    {
     "data": {
      "image/png": "[encoded data removed]",
      "text/plain": [
       "<Figure size 1000x100 with 1 Axes>"
      ]
     },
     "metadata": {},
     "output_type": "display_data"
    },
    {
     "data": {
      "image/png": "[encoded data removed]",
      "text/plain": [
       "<Figure size 1000x100 with 1 Axes>"
      ]
     },
     "metadata": {},
     "output_type": "display_data"
    },
    {
     "data": {
      "image/png": "[encoded data removed]",
      "text/plain": [
       "<Figure size 1000x100 with 1 Axes>"
      ]
     },
     "metadata": {},
     "output_type": "display_data"
    },
    {
     "data": {
      "image/png": "[encoded data removed]",
      "text/plain": [
       "<Figure size 1000x100 with 1 Axes>"
      ]
     },
     "metadata": {},
     "output_type": "display_data"
    },
    {
     "data": {
      "image/png": "[encoded data removed]",
      "text/plain": [
       "<Figure size 1000x100 with 1 Axes>"
      ]
     },
     "metadata": {},
     "output_type": "display_data"
    }
   ],
   "source": [
    "#Checking the outliers \n",
    "for column in merged_num.columns:\n",
    "    plt.figure(figsize=(10,1))\n",
    "    sns.boxplot(x=merged_num[column])\n",
    "    plt.title(f\"Boxplot of {column}\")\n",
    "    plt.show() "
   ]
  },
  {
   "cell_type": "markdown",
   "id": "0fab9d4d-43bc-47a3-9698-ec4c955c744a",
   "metadata": {},
   "source": [
    "#### We have created a function for lower bound and upper bound "
   ]
  },
  {
   "cell_type": "code",
   "execution_count": 37,
   "id": "20ec0fdb-5299-4e68-84c1-2451ddb2ba8b",
   "metadata": {
    "tags": []
   },
   "outputs": [],
   "source": [
    "#udf of lower cutof and upper cutof \n",
    "def outliertreat_IQR(d):\n",
    "    m = d.quantile(0.5)\n",
    "    q1 = d.quantile(0.25)\n",
    "    q3 = d.quantile(0.75)\n",
    "    iqr = q3 - q1\n",
    "    lc = q1 - 1.5*iqr\n",
    "    uc = q3 + 1.5*iqr\n",
    "    return lc,uc"
   ]
  },
  {
   "cell_type": "code",
   "execution_count": 38,
   "id": "aa14e8de-f287-4709-a115-f04fa4e4f9ee",
   "metadata": {
    "tags": []
   },
   "outputs": [
    {
     "data": {
      "text/html": [
       "<div>\n",
       "<style scoped>\n",
       "    .dataframe tbody tr th:only-of-type {\n",
       "        vertical-align: middle;\n",
       "    }\n",
       "\n",
       "    .dataframe tbody tr th {\n",
       "        vertical-align: top;\n",
       "    }\n",
       "\n",
       "    .dataframe thead th {\n",
       "        text-align: right;\n",
       "    }\n",
       "</style>\n",
       "<table border=\"1\" class=\"dataframe\">\n",
       "  <thead>\n",
       "    <tr style=\"text-align: right;\">\n",
       "      <th></th>\n",
       "      <th>customer_Id</th>\n",
       "      <th>Gender</th>\n",
       "      <th>transaction_id</th>\n",
       "      <th>prod_subcat_code</th>\n",
       "      <th>prod_cat_code</th>\n",
       "      <th>Qty</th>\n",
       "      <th>Rate</th>\n",
       "      <th>Tax</th>\n",
       "      <th>total_amt</th>\n",
       "      <th>Store_type</th>\n",
       "      <th>Status</th>\n",
       "    </tr>\n",
       "  </thead>\n",
       "  <tbody>\n",
       "    <tr>\n",
       "      <th>0</th>\n",
       "      <td>262666.125</td>\n",
       "      <td>-1.5</td>\n",
       "      <td>-5.065661e+10</td>\n",
       "      <td>-7.5</td>\n",
       "      <td>-2.5</td>\n",
       "      <td>-3.5</td>\n",
       "      <td>-883.5</td>\n",
       "      <td>-302.95125</td>\n",
       "      <td>-3449.2575</td>\n",
       "      <td>-2.0</td>\n",
       "      <td>1.0</td>\n",
       "    </tr>\n",
       "    <tr>\n",
       "      <th>1</th>\n",
       "      <td>279383.125</td>\n",
       "      <td>2.5</td>\n",
       "      <td>1.509161e+11</td>\n",
       "      <td>20.5</td>\n",
       "      <td>9.5</td>\n",
       "      <td>8.5</td>\n",
       "      <td>2304.5</td>\n",
       "      <td>766.99875</td>\n",
       "      <td>7781.9625</td>\n",
       "      <td>6.0</td>\n",
       "      <td>1.0</td>\n",
       "    </tr>\n",
       "  </tbody>\n",
       "</table>\n",
       "</div>"
      ],
      "text/plain": [
       "   customer_Id  Gender  transaction_id  prod_subcat_code  prod_cat_code  Qty  \\\n",
       "0   262666.125    -1.5   -5.065661e+10              -7.5           -2.5 -3.5   \n",
       "1   279383.125     2.5    1.509161e+11              20.5            9.5  8.5   \n",
       "\n",
       "     Rate        Tax  total_amt  Store_type  Status  \n",
       "0  -883.5 -302.95125 -3449.2575        -2.0     1.0  \n",
       "1  2304.5  766.99875  7781.9625         6.0     1.0  "
      ]
     },
     "execution_count": 38,
     "metadata": {},
     "output_type": "execute_result"
    }
   ],
   "source": [
    "merged_num.apply(outliertreat_IQR)"
   ]
  },
  {
   "cell_type": "code",
   "execution_count": 39,
   "id": "083dc6ef-c39b-4d67-a2e5-1241056a38fb",
   "metadata": {
    "tags": []
   },
   "outputs": [
    {
     "data": {
      "text/plain": [
       "(23040, 11)"
      ]
     },
     "execution_count": 39,
     "metadata": {},
     "output_type": "execute_result"
    }
   ],
   "source": [
    "merged_num.shape"
   ]
  },
  {
   "cell_type": "code",
   "execution_count": 40,
   "id": "754f3647-e06c-4c14-b83d-f8e33fb615cf",
   "metadata": {
    "tags": []
   },
   "outputs": [],
   "source": [
    "#Treating the Outliers by cliping them with lower bound and upper bound \n",
    "merged_num['Qty'] =merged_num.Qty.clip(lower = -3.5, upper = 8.5)\n",
    "merged_num['Rate'] =merged_num.Rate.clip(lower = -885.0, upper = 2307.0)\n",
    "merged_num['Tax'] =merged_num.Tax.clip(lower = -303.03, upper = 767.13)\n",
    "merged_num['total_amt'] =merged_num.total_amt.clip(lower = -3449.2575, upper = 7781.9625)"
   ]
  },
  {
   "cell_type": "code",
   "execution_count": 41,
   "id": "f23b6dbf-4d9f-43ba-92d2-c83e296366a7",
   "metadata": {
    "tags": []
   },
   "outputs": [
    {
     "data": {
      "text/plain": [
       "(23040, 11)"
      ]
     },
     "execution_count": 41,
     "metadata": {},
     "output_type": "execute_result"
    }
   ],
   "source": [
    "merged_num.shape"
   ]
  },
  {
   "cell_type": "code",
   "execution_count": 42,
   "id": "b3ac994a-123e-4466-af62-eaad936c8eae",
   "metadata": {
    "tags": []
   },
   "outputs": [
    {
     "data": {
      "image/png": "[encoded data removed]",
      "text/plain": [
       "<Figure size 1000x100 with 1 Axes>"
      ]
     },
     "metadata": {},
     "output_type": "display_data"
    },
    {
     "data": {
      "image/png": "[encoded data removed]",
      "text/plain": [
       "<Figure size 1000x100 with 1 Axes>"
      ]
     },
     "metadata": {},
     "output_type": "display_data"
    },
    {
     "data": {
      "image/png": "[encoded data removed]",
      "text/plain": [
       "<Figure size 1000x100 with 1 Axes>"
      ]
     },
     "metadata": {},
     "output_type": "display_data"
    },
    {
     "data": {
      "image/png": "[encoded data removed]",
      "text/plain": [
       "<Figure size 1000x100 with 1 Axes>"
      ]
     },
     "metadata": {},
     "output_type": "display_data"
    },
    {
     "data": {
      "image/png": "[encoded data removed]",
      "text/plain": [
       "<Figure size 1000x100 with 1 Axes>"
      ]
     },
     "metadata": {},
     "output_type": "display_data"
    },
    {
     "data": {
      "image/png": "[encoded data removed]",
      "text/plain": [
       "<Figure size 1000x100 with 1 Axes>"
      ]
     },
     "metadata": {},
     "output_type": "display_data"
    },
    {
     "data": {
      "image/png": "[encoded data removed]",
      "text/plain": [
       "<Figure size 1000x100 with 1 Axes>"
      ]
     },
     "metadata": {},
     "output_type": "display_data"
    },
    {
     "data": {
      "image/png": "[encoded data removed]",
      "text/plain": [
       "<Figure size 1000x100 with 1 Axes>"
      ]
     },
     "metadata": {},
     "output_type": "display_data"
    },
    {
     "data": {
      "image/png": "[encoded data removed]",
      "text/plain": [
       "<Figure size 1000x100 with 1 Axes>"
      ]
     },
     "metadata": {},
     "output_type": "display_data"
    },
    {
     "data": {
      "image/png": "[encoded data removed]",
      "text/plain": [
       "<Figure size 1000x100 with 1 Axes>"
      ]
     },
     "metadata": {},
     "output_type": "display_data"
    },
    {
     "data": {
      "image/png": "[encoded data removed]",
      "text/plain": [
       "<Figure size 1000x100 with 1 Axes>"
      ]
     },
     "metadata": {},
     "output_type": "display_data"
    }
   ],
   "source": [
    "#Checking the outliers after treating them \n",
    "for column in merged_num:\n",
    "    plt.figure(figsize=(10,1))\n",
    "    sns.boxplot(x=merged_num[column])\n",
    "    plt.title(f\"Boxplot of {column}\")\n",
    "    plt.show() "
   ]
  },
  {
   "cell_type": "markdown",
   "id": "109fca74-5e17-46a5-adae-15e29df8ece4",
   "metadata": {},
   "source": [
    "# Balancing The Dataset "
   ]
  },
  {
   "cell_type": "markdown",
   "id": "4cd5b9e5-6354-47f8-84ab-c1152a4e4c17",
   "metadata": {},
   "source": [
    "### Checking our dataset is balanced or not "
   ]
  },
  {
   "cell_type": "code",
   "execution_count": 43,
   "id": "42cbf8b4-3fa1-482c-98be-c2633130b319",
   "metadata": {
    "tags": []
   },
   "outputs": [
    {
     "data": {
      "text/plain": [
       "<Axes: xlabel='Status'>"
      ]
     },
     "execution_count": 43,
     "metadata": {},
     "output_type": "execute_result"
    },
    {
     "data": {
      "image/png": "[encoded data removed]",
      "text/plain": [
       "<Figure size 640x480 with 1 Axes>"
      ]
     },
     "metadata": {},
     "output_type": "display_data"
    }
   ],
   "source": [
    "merged_num[\"Status\"].value_counts().plot(kind=\"bar\",color=[\"red\",\"green\"])"
   ]
  },
  {
   "cell_type": "markdown",
   "id": "e1b52a0d-3547-42ac-929a-03a3f226753e",
   "metadata": {},
   "source": [
    "#### As we can see our dataset is highly unblacned so we are going to use over sampling technique."
   ]
  },
  {
   "cell_type": "code",
   "execution_count": 44,
   "id": "3b8272f2-163a-45e0-9875-ba3d204b8a37",
   "metadata": {
    "tags": []
   },
   "outputs": [
    {
     "data": {
      "text/plain": [
       "Status\n",
       "1    20876\n",
       "0     2164\n",
       "Name: count, dtype: int64"
      ]
     },
     "execution_count": 44,
     "metadata": {},
     "output_type": "execute_result"
    }
   ],
   "source": [
    "merged_num[\"Status\"].value_counts()"
   ]
  },
  {
   "cell_type": "code",
   "execution_count": 45,
   "id": "6579d954-a7ca-4ade-8384-3b209fbeb899",
   "metadata": {
    "tags": []
   },
   "outputs": [],
   "source": [
    "#creating majority class and minority class\n",
    "majo=merged_num[merged_num.Status==1]\n",
    "mino=merged_num[merged_num.Status==0]"
   ]
  },
  {
   "cell_type": "code",
   "execution_count": 46,
   "id": "d519d654-4a15-41eb-aeca-f10b7c1927ed",
   "metadata": {
    "tags": []
   },
   "outputs": [],
   "source": [
    "#We use sample method for over sampling \n",
    "ov_mino = mino.sample(replace = True, n = 20860, random_state = 123)#random_state it's won't shuffle if we run this multiple time "
   ]
  },
  {
   "cell_type": "code",
   "execution_count": 47,
   "id": "63c2d2d5-93eb-41b8-9128-6058e0b93c2e",
   "metadata": {
    "tags": []
   },
   "outputs": [],
   "source": [
    "# Concatenate the oversampled minority class with the original DataFrame\n",
    "merged_num = pd.concat([ov_mino, majo])"
   ]
  },
  {
   "cell_type": "code",
   "execution_count": 48,
   "id": "1fbfa673-7aea-46c0-9b78-13479c6ee0ea",
   "metadata": {
    "tags": []
   },
   "outputs": [
    {
     "data": {
      "text/plain": [
       "Status\n",
       "1    20876\n",
       "0    20860\n",
       "Name: count, dtype: int64"
      ]
     },
     "execution_count": 48,
     "metadata": {},
     "output_type": "execute_result"
    }
   ],
   "source": [
    "#checking the value counts after appllying over sampling method \n",
    "merged_num[\"Status\"].value_counts()"
   ]
  },
  {
   "cell_type": "code",
   "execution_count": 49,
   "id": "2b62f12d-a15e-4c10-a14c-a8c547a0ecfa",
   "metadata": {
    "tags": []
   },
   "outputs": [
    {
     "data": {
      "text/plain": [
       "<Axes: xlabel='Status'>"
      ]
     },
     "execution_count": 49,
     "metadata": {},
     "output_type": "execute_result"
    },
    {
     "data": {
      "image/png": "[encoded data removed]",
      "text/plain": [
       "<Figure size 640x480 with 1 Axes>"
      ]
     },
     "metadata": {},
     "output_type": "display_data"
    }
   ],
   "source": [
    "merged_num[\"Status\"].value_counts().plot(kind=\"bar\",color=[\"red\",\"green\"])"
   ]
  },
  {
   "cell_type": "markdown",
   "id": "825a79f4-adbf-4526-940c-dcfa3154afe6",
   "metadata": {},
   "source": [
    "##### Now our dataset is Fully balanced so we can move ahed for Freature Engineering "
   ]
  },
  {
   "cell_type": "markdown",
   "id": "3d1e8c1d-c7b0-4cc4-a9d1-6dd09218c007",
   "metadata": {},
   "source": [
    "# Feature Engieering "
   ]
  },
  {
   "cell_type": "code",
   "execution_count": 50,
   "id": "9aa15af4-7237-42e9-ab81-77d8a2d58f55",
   "metadata": {
    "tags": []
   },
   "outputs": [
    {
     "data": {
      "text/html": [
       "<div>\n",
       "<style scoped>\n",
       "    .dataframe tbody tr th:only-of-type {\n",
       "        vertical-align: middle;\n",
       "    }\n",
       "\n",
       "    .dataframe tbody tr th {\n",
       "        vertical-align: top;\n",
       "    }\n",
       "\n",
       "    .dataframe thead th {\n",
       "        text-align: right;\n",
       "    }\n",
       "</style>\n",
       "<table border=\"1\" class=\"dataframe\">\n",
       "  <thead>\n",
       "    <tr style=\"text-align: right;\">\n",
       "      <th></th>\n",
       "      <th>customer_Id</th>\n",
       "      <th>Gender</th>\n",
       "      <th>transaction_id</th>\n",
       "      <th>prod_subcat_code</th>\n",
       "      <th>prod_cat_code</th>\n",
       "      <th>Qty</th>\n",
       "      <th>Rate</th>\n",
       "      <th>Tax</th>\n",
       "      <th>total_amt</th>\n",
       "      <th>Store_type</th>\n",
       "      <th>Status</th>\n",
       "    </tr>\n",
       "  </thead>\n",
       "  <tbody>\n",
       "    <tr>\n",
       "      <th>customer_Id</th>\n",
       "      <td>1.000000</td>\n",
       "      <td>0.030070</td>\n",
       "      <td>0.023606</td>\n",
       "      <td>0.011977</td>\n",
       "      <td>0.005351</td>\n",
       "      <td>0.013314</td>\n",
       "      <td>0.000982</td>\n",
       "      <td>0.011585</td>\n",
       "      <td>0.005509</td>\n",
       "      <td>0.009081</td>\n",
       "      <td>0.007909</td>\n",
       "    </tr>\n",
       "    <tr>\n",
       "      <th>Gender</th>\n",
       "      <td>0.030070</td>\n",
       "      <td>1.000000</td>\n",
       "      <td>0.007074</td>\n",
       "      <td>0.017720</td>\n",
       "      <td>0.019599</td>\n",
       "      <td>0.007756</td>\n",
       "      <td>0.007234</td>\n",
       "      <td>0.002679</td>\n",
       "      <td>0.005552</td>\n",
       "      <td>0.018351</td>\n",
       "      <td>0.008860</td>\n",
       "    </tr>\n",
       "    <tr>\n",
       "      <th>transaction_id</th>\n",
       "      <td>0.023606</td>\n",
       "      <td>0.007074</td>\n",
       "      <td>1.000000</td>\n",
       "      <td>0.010734</td>\n",
       "      <td>0.001917</td>\n",
       "      <td>0.019787</td>\n",
       "      <td>0.016381</td>\n",
       "      <td>0.013712</td>\n",
       "      <td>0.020833</td>\n",
       "      <td>0.007349</td>\n",
       "      <td>0.017217</td>\n",
       "    </tr>\n",
       "    <tr>\n",
       "      <th>prod_subcat_code</th>\n",
       "      <td>0.011977</td>\n",
       "      <td>0.017720</td>\n",
       "      <td>0.010734</td>\n",
       "      <td>1.000000</td>\n",
       "      <td>0.563973</td>\n",
       "      <td>0.008632</td>\n",
       "      <td>0.003826</td>\n",
       "      <td>0.012200</td>\n",
       "      <td>0.006327</td>\n",
       "      <td>0.023876</td>\n",
       "      <td>0.006755</td>\n",
       "    </tr>\n",
       "    <tr>\n",
       "      <th>prod_cat_code</th>\n",
       "      <td>0.005351</td>\n",
       "      <td>0.019599</td>\n",
       "      <td>0.001917</td>\n",
       "      <td>0.563973</td>\n",
       "      <td>1.000000</td>\n",
       "      <td>0.011454</td>\n",
       "      <td>0.006699</td>\n",
       "      <td>0.013017</td>\n",
       "      <td>0.009976</td>\n",
       "      <td>0.032410</td>\n",
       "      <td>0.007989</td>\n",
       "    </tr>\n",
       "    <tr>\n",
       "      <th>Qty</th>\n",
       "      <td>0.013314</td>\n",
       "      <td>0.007756</td>\n",
       "      <td>0.019787</td>\n",
       "      <td>0.008632</td>\n",
       "      <td>0.011454</td>\n",
       "      <td>1.000000</td>\n",
       "      <td>0.825602</td>\n",
       "      <td>0.026478</td>\n",
       "      <td>0.898506</td>\n",
       "      <td>0.009130</td>\n",
       "      <td>0.917735</td>\n",
       "    </tr>\n",
       "    <tr>\n",
       "      <th>Rate</th>\n",
       "      <td>0.000982</td>\n",
       "      <td>0.007234</td>\n",
       "      <td>0.016381</td>\n",
       "      <td>0.003826</td>\n",
       "      <td>0.006699</td>\n",
       "      <td>0.825602</td>\n",
       "      <td>1.000000</td>\n",
       "      <td>0.046886</td>\n",
       "      <td>0.918259</td>\n",
       "      <td>0.005100</td>\n",
       "      <td>0.899074</td>\n",
       "    </tr>\n",
       "    <tr>\n",
       "      <th>Tax</th>\n",
       "      <td>0.011585</td>\n",
       "      <td>0.002679</td>\n",
       "      <td>0.013712</td>\n",
       "      <td>0.012200</td>\n",
       "      <td>0.013017</td>\n",
       "      <td>0.026478</td>\n",
       "      <td>0.046886</td>\n",
       "      <td>1.000000</td>\n",
       "      <td>0.132429</td>\n",
       "      <td>0.006752</td>\n",
       "      <td>0.021496</td>\n",
       "    </tr>\n",
       "    <tr>\n",
       "      <th>total_amt</th>\n",
       "      <td>0.005509</td>\n",
       "      <td>0.005552</td>\n",
       "      <td>0.020833</td>\n",
       "      <td>0.006327</td>\n",
       "      <td>0.009976</td>\n",
       "      <td>0.898506</td>\n",
       "      <td>0.918259</td>\n",
       "      <td>0.132429</td>\n",
       "      <td>1.000000</td>\n",
       "      <td>0.009431</td>\n",
       "      <td>0.826416</td>\n",
       "    </tr>\n",
       "    <tr>\n",
       "      <th>Store_type</th>\n",
       "      <td>0.009081</td>\n",
       "      <td>0.018351</td>\n",
       "      <td>0.007349</td>\n",
       "      <td>0.023876</td>\n",
       "      <td>0.032410</td>\n",
       "      <td>0.009130</td>\n",
       "      <td>0.005100</td>\n",
       "      <td>0.006752</td>\n",
       "      <td>0.009431</td>\n",
       "      <td>1.000000</td>\n",
       "      <td>0.008318</td>\n",
       "    </tr>\n",
       "    <tr>\n",
       "      <th>Status</th>\n",
       "      <td>0.007909</td>\n",
       "      <td>0.008860</td>\n",
       "      <td>0.017217</td>\n",
       "      <td>0.006755</td>\n",
       "      <td>0.007989</td>\n",
       "      <td>0.917735</td>\n",
       "      <td>0.899074</td>\n",
       "      <td>0.021496</td>\n",
       "      <td>0.826416</td>\n",
       "      <td>0.008318</td>\n",
       "      <td>1.000000</td>\n",
       "    </tr>\n",
       "  </tbody>\n",
       "</table>\n",
       "</div>"
      ],
      "text/plain": [
       "                  customer_Id    Gender  transaction_id  prod_subcat_code  \\\n",
       "customer_Id          1.000000  0.030070        0.023606          0.011977   \n",
       "Gender               0.030070  1.000000        0.007074          0.017720   \n",
       "transaction_id       0.023606  0.007074        1.000000          0.010734   \n",
       "prod_subcat_code     0.011977  0.017720        0.010734          1.000000   \n",
       "prod_cat_code        0.005351  0.019599        0.001917          0.563973   \n",
       "Qty                  0.013314  0.007756        0.019787          0.008632   \n",
       "Rate                 0.000982  0.007234        0.016381          0.003826   \n",
       "Tax                  0.011585  0.002679        0.013712          0.012200   \n",
       "total_amt            0.005509  0.005552        0.020833          0.006327   \n",
       "Store_type           0.009081  0.018351        0.007349          0.023876   \n",
       "Status               0.007909  0.008860        0.017217          0.006755   \n",
       "\n",
       "                  prod_cat_code       Qty      Rate       Tax  total_amt  \\\n",
       "customer_Id            0.005351  0.013314  0.000982  0.011585   0.005509   \n",
       "Gender                 0.019599  0.007756  0.007234  0.002679   0.005552   \n",
       "transaction_id         0.001917  0.019787  0.016381  0.013712   0.020833   \n",
       "prod_subcat_code       0.563973  0.008632  0.003826  0.012200   0.006327   \n",
       "prod_cat_code          1.000000  0.011454  0.006699  0.013017   0.009976   \n",
       "Qty                    0.011454  1.000000  0.825602  0.026478   0.898506   \n",
       "Rate                   0.006699  0.825602  1.000000  0.046886   0.918259   \n",
       "Tax                    0.013017  0.026478  0.046886  1.000000   0.132429   \n",
       "total_amt              0.009976  0.898506  0.918259  0.132429   1.000000   \n",
       "Store_type             0.032410  0.009130  0.005100  0.006752   0.009431   \n",
       "Status                 0.007989  0.917735  0.899074  0.021496   0.826416   \n",
       "\n",
       "                  Store_type    Status  \n",
       "customer_Id         0.009081  0.007909  \n",
       "Gender              0.018351  0.008860  \n",
       "transaction_id      0.007349  0.017217  \n",
       "prod_subcat_code    0.023876  0.006755  \n",
       "prod_cat_code       0.032410  0.007989  \n",
       "Qty                 0.009130  0.917735  \n",
       "Rate                0.005100  0.899074  \n",
       "Tax                 0.006752  0.021496  \n",
       "total_amt           0.009431  0.826416  \n",
       "Store_type          1.000000  0.008318  \n",
       "Status              0.008318  1.000000  "
      ]
     },
     "execution_count": 50,
     "metadata": {},
     "output_type": "execute_result"
    }
   ],
   "source": [
    "#correlation analysis \n",
    "merged_num.corr().abs()"
   ]
  },
  {
   "cell_type": "code",
   "execution_count": 51,
   "id": "adec2f43-2b81-4898-9597-d064350d53a4",
   "metadata": {
    "tags": []
   },
   "outputs": [
    {
     "data": {
      "image/png": "[encoded data removed]",
      "text/plain": [
       "<Figure size 1600x400 with 2 Axes>"
      ]
     },
     "metadata": {},
     "output_type": "display_data"
    }
   ],
   "source": [
    "#ploting the correlation using heatmap\n",
    "plt.figure(figsize=(16,4))\n",
    "sns.heatmap(merged_num.corr().abs(),annot=True,cmap=\"coolwarm\")\n",
    "plt.show()"
   ]
  },
  {
   "cell_type": "markdown",
   "id": "098a43cc-ca28-459d-8cae-5e4d6a68511a",
   "metadata": {},
   "source": [
    "##### As we added the status variable and that will be our target variable and as we can see there is only the 3 variables having the good correlation but we are going to take all the varibales because we have less variabels. mention the variables name as well"
   ]
  },
  {
   "cell_type": "markdown",
   "id": "b9430e06-19a6-42b9-9f71-3352f570414c",
   "metadata": {},
   "source": [
    "### Spliting the data with X and Y for Maching learning "
   ]
  },
  {
   "cell_type": "code",
   "execution_count": 52,
   "id": "d0ff1b2f-a984-4f46-99d5-ca9b33c8f60f",
   "metadata": {},
   "outputs": [],
   "source": [
    "#7. traning testing split \n",
    "x=merged_num.drop('Status',axis=1)\n",
    "y=merged_num['Status']\n",
    "from sklearn.model_selection import train_test_split\n",
    "x_train,x_test,y_train,y_test=train_test_split(x,y,test_size=0.2,random_state=42)#random_state will shuffel the data points\n"
   ]
  },
  {
   "cell_type": "code",
   "execution_count": 53,
   "id": "cbf3aebd-8c35-433e-ad3a-8ad583ad313b",
   "metadata": {
    "tags": []
   },
   "outputs": [
    {
     "data": {
      "text/plain": [
       "(33388, 10)"
      ]
     },
     "execution_count": 53,
     "metadata": {},
     "output_type": "execute_result"
    }
   ],
   "source": [
    "x_train.shape"
   ]
  },
  {
   "cell_type": "code",
   "execution_count": 54,
   "id": "e8e06b25-59b8-4f56-b043-1b8c656aa0aa",
   "metadata": {
    "tags": []
   },
   "outputs": [
    {
     "data": {
      "text/plain": [
       "(8348, 10)"
      ]
     },
     "execution_count": 54,
     "metadata": {},
     "output_type": "execute_result"
    }
   ],
   "source": [
    "x_test.shape"
   ]
  },
  {
   "cell_type": "code",
   "execution_count": 55,
   "id": "d0c28161-d57b-4835-9063-727d861941c5",
   "metadata": {
    "tags": []
   },
   "outputs": [
    {
     "data": {
      "text/plain": [
       "(8348,)"
      ]
     },
     "execution_count": 55,
     "metadata": {},
     "output_type": "execute_result"
    }
   ],
   "source": [
    "y_test.shape"
   ]
  },
  {
   "cell_type": "code",
   "execution_count": 56,
   "id": "9123f707-df23-4656-9a90-5d0222ff7325",
   "metadata": {
    "tags": []
   },
   "outputs": [
    {
     "data": {
      "text/plain": [
       "(33388,)"
      ]
     },
     "execution_count": 56,
     "metadata": {},
     "output_type": "execute_result"
    }
   ],
   "source": [
    "y_train.shape"
   ]
  },
  {
   "cell_type": "markdown",
   "id": "7e2b75db-821e-45da-9dea-846fce5b211a",
   "metadata": {},
   "source": [
    "# Building Logistic regression model "
   ]
  },
  {
   "cell_type": "code",
   "execution_count": 57,
   "id": "238a9284-475f-40ed-b1f8-fad08d022751",
   "metadata": {
    "tags": []
   },
   "outputs": [],
   "source": [
    "#importing necessary library\n",
    "from sklearn.metrics import accuracy_score,classification_report\n",
    "from sklearn.linear_model import LogisticRegression"
   ]
  },
  {
   "cell_type": "code",
   "execution_count": 58,
   "id": "228d2694-c19f-4619-9bd1-4ab4b8ac23a7",
   "metadata": {
    "tags": []
   },
   "outputs": [],
   "source": [
    "model = LogisticRegression()"
   ]
  },
  {
   "cell_type": "code",
   "execution_count": 59,
   "id": "7eda4590-a0dc-40d9-9553-93b4bed25cde",
   "metadata": {
    "tags": []
   },
   "outputs": [
    {
     "data": {
      "text/html": [
       "<style>#sk-container-id-1 {color: black;}#sk-container-id-1 pre{padding: 0;}#sk-container-id-1 div.sk-toggleable {background-color: white;}#sk-container-id-1 label.sk-toggleable__label {cursor: pointer;display: block;width: 100%;margin-bottom: 0;padding: 0.3em;box-sizing: border-box;text-align: center;}#sk-container-id-1 label.sk-toggleable__label-arrow:before {content: \"▸\";float: left;margin-right: 0.25em;color: #696969;}#sk-container-id-1 label.sk-toggleable__label-arrow:hover:before {color: black;}#sk-container-id-1 div.sk-estimator:hover label.sk-toggleable__label-arrow:before {color: black;}#sk-container-id-1 div.sk-toggleable__content {max-height: 0;max-width: 0;overflow: hidden;text-align: left;background-color: #f0f8ff;}#sk-container-id-1 div.sk-toggleable__content pre {margin: 0.2em;color: black;border-radius: 0.25em;background-color: #f0f8ff;}#sk-container-id-1 input.sk-toggleable__control:checked~div.sk-toggleable__content {max-height: 200px;max-width: 100%;overflow: auto;}#sk-container-id-1 input.sk-toggleable__control:checked~label.sk-toggleable__label-arrow:before {content: \"▾\";}#sk-container-id-1 div.sk-estimator input.sk-toggleable__control:checked~label.sk-toggleable__label {background-color: #d4ebff;}#sk-container-id-1 div.sk-label input.sk-toggleable__control:checked~label.sk-toggleable__label {background-color: #d4ebff;}#sk-container-id-1 input.sk-hidden--visually {border: 0;clip: rect(1px 1px 1px 1px);clip: rect(1px, 1px, 1px, 1px);height: 1px;margin: -1px;overflow: hidden;padding: 0;position: absolute;width: 1px;}#sk-container-id-1 div.sk-estimator {font-family: monospace;background-color: #f0f8ff;border: 1px dotted black;border-radius: 0.25em;box-sizing: border-box;margin-bottom: 0.5em;}#sk-container-id-1 div.sk-estimator:hover {background-color: #d4ebff;}#sk-container-id-1 div.sk-parallel-item::after {content: \"\";width: 100%;border-bottom: 1px solid gray;flex-grow: 1;}#sk-container-id-1 div.sk-label:hover label.sk-toggleable__label {background-color: #d4ebff;}#sk-container-id-1 div.sk-serial::before {content: \"\";position: absolute;border-left: 1px solid gray;box-sizing: border-box;top: 0;bottom: 0;left: 50%;z-index: 0;}#sk-container-id-1 div.sk-serial {display: flex;flex-direction: column;align-items: center;background-color: white;padding-right: 0.2em;padding-left: 0.2em;position: relative;}#sk-container-id-1 div.sk-item {position: relative;z-index: 1;}#sk-container-id-1 div.sk-parallel {display: flex;align-items: stretch;justify-content: center;background-color: white;position: relative;}#sk-container-id-1 div.sk-item::before, #sk-container-id-1 div.sk-parallel-item::before {content: \"\";position: absolute;border-left: 1px solid gray;box-sizing: border-box;top: 0;bottom: 0;left: 50%;z-index: -1;}#sk-container-id-1 div.sk-parallel-item {display: flex;flex-direction: column;z-index: 1;position: relative;background-color: white;}#sk-container-id-1 div.sk-parallel-item:first-child::after {align-self: flex-end;width: 50%;}#sk-container-id-1 div.sk-parallel-item:last-child::after {align-self: flex-start;width: 50%;}#sk-container-id-1 div.sk-parallel-item:only-child::after {width: 0;}#sk-container-id-1 div.sk-dashed-wrapped {border: 1px dashed gray;margin: 0 0.4em 0.5em 0.4em;box-sizing: border-box;padding-bottom: 0.4em;background-color: white;}#sk-container-id-1 div.sk-label label {font-family: monospace;font-weight: bold;display: inline-block;line-height: 1.2em;}#sk-container-id-1 div.sk-label-container {text-align: center;}#sk-container-id-1 div.sk-container {/* jupyter's `normalize.less` sets `[hidden] { display: none; }` but bootstrap.min.css set `[hidden] { display: none !important; }` so we also need the `!important` here to be able to override the default hidden behavior on the sphinx rendered scikit-learn.org. See: https://github.com/scikit-learn/scikit-learn/issues/21755 */display: inline-block !important;position: relative;}#sk-container-id-1 div.sk-text-repr-fallback {display: none;}</style><div id=\"sk-container-id-1\" class=\"sk-top-container\"><div class=\"sk-text-repr-fallback\"><pre>LogisticRegression()</pre><b>In a Jupyter environment, please rerun this cell to show the HTML representation or trust the notebook. <br />On GitHub, the HTML representation is unable to render, please try loading this page with nbviewer.org.</b></div><div class=\"sk-container\" hidden><div class=\"sk-item\"><div class=\"sk-estimator sk-toggleable\"><input class=\"sk-toggleable__control sk-hidden--visually\" id=\"sk-estimator-id-1\" type=\"checkbox\" checked><label for=\"sk-estimator-id-1\" class=\"sk-toggleable__label sk-toggleable__label-arrow\">LogisticRegression</label><div class=\"sk-toggleable__content\"><pre>LogisticRegression()</pre></div></div></div></div></div>"
      ],
      "text/plain": [
       "LogisticRegression()"
      ]
     },
     "execution_count": 59,
     "metadata": {},
     "output_type": "execute_result"
    }
   ],
   "source": [
    "model.fit(x_train, y_train)"
   ]
  },
  {
   "cell_type": "code",
   "execution_count": 60,
   "id": "87e123cc-c7e7-4cfd-8fdd-ca706819f375",
   "metadata": {
    "tags": []
   },
   "outputs": [],
   "source": [
    "train_pred_logi=model.predict(x_train)"
   ]
  },
  {
   "cell_type": "code",
   "execution_count": 61,
   "id": "9650b0e7-7e4e-4532-a41e-7f6fbe429c1b",
   "metadata": {
    "tags": []
   },
   "outputs": [],
   "source": [
    "test_pred_logi = model.predict(x_test)"
   ]
  },
  {
   "cell_type": "code",
   "execution_count": 62,
   "id": "0491a4d9-95c1-442d-9560-64633f8d8757",
   "metadata": {
    "tags": []
   },
   "outputs": [
    {
     "name": "stdout",
     "output_type": "stream",
     "text": [
      "0.4992512279861028\n"
     ]
    }
   ],
   "source": [
    "print(accuracy_score(train_pred_logi,y_train))"
   ]
  },
  {
   "cell_type": "code",
   "execution_count": 63,
   "id": "0f008cab-12e6-4cc4-930e-c6368a1e3efd",
   "metadata": {
    "tags": []
   },
   "outputs": [],
   "source": [
    "lr_aucc=accuracy_score(train_pred_logi,y_train)"
   ]
  },
  {
   "cell_type": "code",
   "execution_count": 64,
   "id": "718f31f9-d7d8-4971-beca-74e566e4e150",
   "metadata": {
    "tags": []
   },
   "outputs": [
    {
     "name": "stdout",
     "output_type": "stream",
     "text": [
      "0.502036415908002\n"
     ]
    }
   ],
   "source": [
    "print(accuracy_score(test_pred_logi,y_test))"
   ]
  },
  {
   "cell_type": "code",
   "execution_count": 65,
   "id": "aadffee9-e66b-4ccb-8acb-add21b92ea15",
   "metadata": {
    "tags": []
   },
   "outputs": [],
   "source": [
    "lr_test=accuracy_score(test_pred_logi,y_test)"
   ]
  },
  {
   "cell_type": "code",
   "execution_count": 66,
   "id": "2f1c9a37-2aeb-46bb-822c-de82c0948aef",
   "metadata": {
    "tags": []
   },
   "outputs": [
    {
     "name": "stdout",
     "output_type": "stream",
     "text": [
      "              precision    recall  f1-score   support\n",
      "\n",
      "           0       1.00      0.50      0.67      8348\n",
      "           1       0.00      0.00      0.00         0\n",
      "\n",
      "    accuracy                           0.50      8348\n",
      "   macro avg       0.50      0.25      0.33      8348\n",
      "weighted avg       1.00      0.50      0.67      8348\n",
      "\n"
     ]
    }
   ],
   "source": [
    "#printing classification report\n",
    "print(classification_report(test_pred_logi,y_test))"
   ]
  },
  {
   "cell_type": "markdown",
   "id": "aaa4ea2b-51d4-4694-a494-bd91067268ce",
   "metadata": {},
   "source": [
    "# Building naive bayes model "
   ]
  },
  {
   "cell_type": "code",
   "execution_count": 67,
   "id": "81c96f69-6ae7-4d29-982f-a2f51c9b52de",
   "metadata": {
    "tags": []
   },
   "outputs": [],
   "source": [
    "#Importing necessary library \n",
    "from sklearn.naive_bayes import GaussianNB"
   ]
  },
  {
   "cell_type": "code",
   "execution_count": 68,
   "id": "acdf3717-0ff1-4a8d-a341-b5d14a134e30",
   "metadata": {
    "tags": []
   },
   "outputs": [],
   "source": [
    "gnb = GaussianNB()"
   ]
  },
  {
   "cell_type": "code",
   "execution_count": 69,
   "id": "6e10f7ee-f9eb-49de-80fe-ea215f6c9b2c",
   "metadata": {
    "tags": []
   },
   "outputs": [
    {
     "data": {
      "text/html": [
       "<style>#sk-container-id-2 {color: black;}#sk-container-id-2 pre{padding: 0;}#sk-container-id-2 div.sk-toggleable {background-color: white;}#sk-container-id-2 label.sk-toggleable__label {cursor: pointer;display: block;width: 100%;margin-bottom: 0;padding: 0.3em;box-sizing: border-box;text-align: center;}#sk-container-id-2 label.sk-toggleable__label-arrow:before {content: \"▸\";float: left;margin-right: 0.25em;color: #696969;}#sk-container-id-2 label.sk-toggleable__label-arrow:hover:before {color: black;}#sk-container-id-2 div.sk-estimator:hover label.sk-toggleable__label-arrow:before {color: black;}#sk-container-id-2 div.sk-toggleable__content {max-height: 0;max-width: 0;overflow: hidden;text-align: left;background-color: #f0f8ff;}#sk-container-id-2 div.sk-toggleable__content pre {margin: 0.2em;color: black;border-radius: 0.25em;background-color: #f0f8ff;}#sk-container-id-2 input.sk-toggleable__control:checked~div.sk-toggleable__content {max-height: 200px;max-width: 100%;overflow: auto;}#sk-container-id-2 input.sk-toggleable__control:checked~label.sk-toggleable__label-arrow:before {content: \"▾\";}#sk-container-id-2 div.sk-estimator input.sk-toggleable__control:checked~label.sk-toggleable__label {background-color: #d4ebff;}#sk-container-id-2 div.sk-label input.sk-toggleable__control:checked~label.sk-toggleable__label {background-color: #d4ebff;}#sk-container-id-2 input.sk-hidden--visually {border: 0;clip: rect(1px 1px 1px 1px);clip: rect(1px, 1px, 1px, 1px);height: 1px;margin: -1px;overflow: hidden;padding: 0;position: absolute;width: 1px;}#sk-container-id-2 div.sk-estimator {font-family: monospace;background-color: #f0f8ff;border: 1px dotted black;border-radius: 0.25em;box-sizing: border-box;margin-bottom: 0.5em;}#sk-container-id-2 div.sk-estimator:hover {background-color: #d4ebff;}#sk-container-id-2 div.sk-parallel-item::after {content: \"\";width: 100%;border-bottom: 1px solid gray;flex-grow: 1;}#sk-container-id-2 div.sk-label:hover label.sk-toggleable__label {background-color: #d4ebff;}#sk-container-id-2 div.sk-serial::before {content: \"\";position: absolute;border-left: 1px solid gray;box-sizing: border-box;top: 0;bottom: 0;left: 50%;z-index: 0;}#sk-container-id-2 div.sk-serial {display: flex;flex-direction: column;align-items: center;background-color: white;padding-right: 0.2em;padding-left: 0.2em;position: relative;}#sk-container-id-2 div.sk-item {position: relative;z-index: 1;}#sk-container-id-2 div.sk-parallel {display: flex;align-items: stretch;justify-content: center;background-color: white;position: relative;}#sk-container-id-2 div.sk-item::before, #sk-container-id-2 div.sk-parallel-item::before {content: \"\";position: absolute;border-left: 1px solid gray;box-sizing: border-box;top: 0;bottom: 0;left: 50%;z-index: -1;}#sk-container-id-2 div.sk-parallel-item {display: flex;flex-direction: column;z-index: 1;position: relative;background-color: white;}#sk-container-id-2 div.sk-parallel-item:first-child::after {align-self: flex-end;width: 50%;}#sk-container-id-2 div.sk-parallel-item:last-child::after {align-self: flex-start;width: 50%;}#sk-container-id-2 div.sk-parallel-item:only-child::after {width: 0;}#sk-container-id-2 div.sk-dashed-wrapped {border: 1px dashed gray;margin: 0 0.4em 0.5em 0.4em;box-sizing: border-box;padding-bottom: 0.4em;background-color: white;}#sk-container-id-2 div.sk-label label {font-family: monospace;font-weight: bold;display: inline-block;line-height: 1.2em;}#sk-container-id-2 div.sk-label-container {text-align: center;}#sk-container-id-2 div.sk-container {/* jupyter's `normalize.less` sets `[hidden] { display: none; }` but bootstrap.min.css set `[hidden] { display: none !important; }` so we also need the `!important` here to be able to override the default hidden behavior on the sphinx rendered scikit-learn.org. See: https://github.com/scikit-learn/scikit-learn/issues/21755 */display: inline-block !important;position: relative;}#sk-container-id-2 div.sk-text-repr-fallback {display: none;}</style><div id=\"sk-container-id-2\" class=\"sk-top-container\"><div class=\"sk-text-repr-fallback\"><pre>GaussianNB()</pre><b>In a Jupyter environment, please rerun this cell to show the HTML representation or trust the notebook. <br />On GitHub, the HTML representation is unable to render, please try loading this page with nbviewer.org.</b></div><div class=\"sk-container\" hidden><div class=\"sk-item\"><div class=\"sk-estimator sk-toggleable\"><input class=\"sk-toggleable__control sk-hidden--visually\" id=\"sk-estimator-id-2\" type=\"checkbox\" checked><label for=\"sk-estimator-id-2\" class=\"sk-toggleable__label sk-toggleable__label-arrow\">GaussianNB</label><div class=\"sk-toggleable__content\"><pre>GaussianNB()</pre></div></div></div></div></div>"
      ],
      "text/plain": [
       "GaussianNB()"
      ]
     },
     "execution_count": 69,
     "metadata": {},
     "output_type": "execute_result"
    }
   ],
   "source": [
    "# fit the model\n",
    "gnb.fit(x_train, y_train)"
   ]
  },
  {
   "cell_type": "code",
   "execution_count": 70,
   "id": "3f1c2700-b3a3-4fad-a811-bb4357f5cf55",
   "metadata": {
    "tags": []
   },
   "outputs": [],
   "source": [
    "y_train_pred = gnb.predict(x_train)"
   ]
  },
  {
   "cell_type": "code",
   "execution_count": 71,
   "id": "c420bb06-2d3c-4127-ac7b-d40a255c6c57",
   "metadata": {
    "tags": []
   },
   "outputs": [],
   "source": [
    "y_train_pred = pd.Series(y_train_pred)"
   ]
  },
  {
   "cell_type": "code",
   "execution_count": 72,
   "id": "4840d619-c7d2-42ba-90cb-8382396870a3",
   "metadata": {
    "tags": []
   },
   "outputs": [],
   "source": [
    "Model_data_train = pd.DataFrame(y_train)"
   ]
  },
  {
   "cell_type": "code",
   "execution_count": 73,
   "id": "5067265a-9574-43ef-b15e-122d38268129",
   "metadata": {
    "tags": []
   },
   "outputs": [
    {
     "data": {
      "text/html": [
       "<div>\n",
       "<style scoped>\n",
       "    .dataframe tbody tr th:only-of-type {\n",
       "        vertical-align: middle;\n",
       "    }\n",
       "\n",
       "    .dataframe tbody tr th {\n",
       "        vertical-align: top;\n",
       "    }\n",
       "\n",
       "    .dataframe thead th {\n",
       "        text-align: right;\n",
       "    }\n",
       "</style>\n",
       "<table border=\"1\" class=\"dataframe\">\n",
       "  <thead>\n",
       "    <tr style=\"text-align: right;\">\n",
       "      <th></th>\n",
       "      <th>Status</th>\n",
       "    </tr>\n",
       "  </thead>\n",
       "  <tbody>\n",
       "    <tr>\n",
       "      <th>6893</th>\n",
       "      <td>1</td>\n",
       "    </tr>\n",
       "    <tr>\n",
       "      <th>7449</th>\n",
       "      <td>0</td>\n",
       "    </tr>\n",
       "    <tr>\n",
       "      <th>20552</th>\n",
       "      <td>1</td>\n",
       "    </tr>\n",
       "    <tr>\n",
       "      <th>12799</th>\n",
       "      <td>0</td>\n",
       "    </tr>\n",
       "    <tr>\n",
       "      <th>15859</th>\n",
       "      <td>1</td>\n",
       "    </tr>\n",
       "    <tr>\n",
       "      <th>...</th>\n",
       "      <td>...</td>\n",
       "    </tr>\n",
       "    <tr>\n",
       "      <th>13852</th>\n",
       "      <td>0</td>\n",
       "    </tr>\n",
       "    <tr>\n",
       "      <th>11751</th>\n",
       "      <td>0</td>\n",
       "    </tr>\n",
       "    <tr>\n",
       "      <th>19083</th>\n",
       "      <td>1</td>\n",
       "    </tr>\n",
       "    <tr>\n",
       "      <th>18805</th>\n",
       "      <td>0</td>\n",
       "    </tr>\n",
       "    <tr>\n",
       "      <th>2461</th>\n",
       "      <td>0</td>\n",
       "    </tr>\n",
       "  </tbody>\n",
       "</table>\n",
       "<p>33388 rows × 1 columns</p>\n",
       "</div>"
      ],
      "text/plain": [
       "       Status\n",
       "6893        1\n",
       "7449        0\n",
       "20552       1\n",
       "12799       0\n",
       "15859       1\n",
       "...       ...\n",
       "13852       0\n",
       "11751       0\n",
       "19083       1\n",
       "18805       0\n",
       "2461        0\n",
       "\n",
       "[33388 rows x 1 columns]"
      ]
     },
     "execution_count": 73,
     "metadata": {},
     "output_type": "execute_result"
    }
   ],
   "source": [
    "Model_data_train"
   ]
  },
  {
   "cell_type": "code",
   "execution_count": 74,
   "id": "458a7edf-0451-49b3-bf5b-b6909385a3d0",
   "metadata": {
    "tags": []
   },
   "outputs": [
    {
     "data": {
      "text/plain": [
       "(33388, 1)"
      ]
     },
     "execution_count": 74,
     "metadata": {},
     "output_type": "execute_result"
    }
   ],
   "source": [
    "Model_data_train.shape"
   ]
  },
  {
   "cell_type": "code",
   "execution_count": 75,
   "id": "fd95c150-8d31-4ca4-a039-f7431d43a966",
   "metadata": {
    "tags": []
   },
   "outputs": [],
   "source": [
    "Model_data_train['y_pred'] = y_train_pred"
   ]
  },
  {
   "cell_type": "code",
   "execution_count": 76,
   "id": "4dec3970-65eb-4437-b516-585c90d6f50e",
   "metadata": {
    "tags": []
   },
   "outputs": [
    {
     "data": {
      "text/html": [
       "<div>\n",
       "<style scoped>\n",
       "    .dataframe tbody tr th:only-of-type {\n",
       "        vertical-align: middle;\n",
       "    }\n",
       "\n",
       "    .dataframe tbody tr th {\n",
       "        vertical-align: top;\n",
       "    }\n",
       "\n",
       "    .dataframe thead th {\n",
       "        text-align: right;\n",
       "    }\n",
       "</style>\n",
       "<table border=\"1\" class=\"dataframe\">\n",
       "  <thead>\n",
       "    <tr style=\"text-align: right;\">\n",
       "      <th>y_pred</th>\n",
       "      <th>0</th>\n",
       "      <th>1</th>\n",
       "      <th>All</th>\n",
       "    </tr>\n",
       "    <tr>\n",
       "      <th>Status</th>\n",
       "      <th></th>\n",
       "      <th></th>\n",
       "      <th></th>\n",
       "    </tr>\n",
       "  </thead>\n",
       "  <tbody>\n",
       "    <tr>\n",
       "      <th>0</th>\n",
       "      <td>7359</td>\n",
       "      <td>9310</td>\n",
       "      <td>16669</td>\n",
       "    </tr>\n",
       "    <tr>\n",
       "      <th>1</th>\n",
       "      <td>7086</td>\n",
       "      <td>9633</td>\n",
       "      <td>16719</td>\n",
       "    </tr>\n",
       "    <tr>\n",
       "      <th>All</th>\n",
       "      <td>14445</td>\n",
       "      <td>18943</td>\n",
       "      <td>33388</td>\n",
       "    </tr>\n",
       "  </tbody>\n",
       "</table>\n",
       "</div>"
      ],
      "text/plain": [
       "y_pred      0      1    All\n",
       "Status                     \n",
       "0        7359   9310  16669\n",
       "1        7086   9633  16719\n",
       "All     14445  18943  33388"
      ]
     },
     "execution_count": 76,
     "metadata": {},
     "output_type": "execute_result"
    }
   ],
   "source": [
    "pd.crosstab(Model_data_train.Status,Model_data_train.y_pred, margins = True)"
   ]
  },
  {
   "cell_type": "code",
   "execution_count": 77,
   "id": "e64ca49f-a643-4ee8-b915-100976ae5482",
   "metadata": {
    "tags": []
   },
   "outputs": [
    {
     "name": "stdout",
     "output_type": "stream",
     "text": [
      "Confusion matrix\n",
      "\n",
      " [[7157 9512]\n",
      " [7067 9652]]\n",
      "\n",
      "True Positives(TP) =  7157\n",
      "\n",
      "True Negatives(TN) =  9652\n",
      "\n",
      "False Positives(FP) =  9512\n",
      "\n",
      "False Negatives(FN) =  7067\n"
     ]
    },
    {
     "data": {
      "text/plain": [
       "(2, 2)"
      ]
     },
     "execution_count": 77,
     "metadata": {},
     "output_type": "execute_result"
    }
   ],
   "source": [
    "from sklearn.metrics import confusion_matrix\n",
    "\n",
    "data_table = confusion_matrix(y_train, y_train_pred)\n",
    "\n",
    "print('Confusion matrix\\n\\n', data_table)\n",
    "\n",
    "print('\\nTrue Positives(TP) = ', data_table[0,0])\n",
    "\n",
    "print('\\nTrue Negatives(TN) = ', data_table[1,1])\n",
    "\n",
    "print('\\nFalse Positives(FP) = ', data_table[0,1])\n",
    "\n",
    "print('\\nFalse Negatives(FN) = ', data_table[1,0])\n",
    "\n",
    "\n",
    "data_table.shape"
   ]
  },
  {
   "cell_type": "code",
   "execution_count": 78,
   "id": "d67b5172-f666-4a04-8840-9139cc79bdfb",
   "metadata": {
    "tags": []
   },
   "outputs": [
    {
     "data": {
      "text/plain": [
       "<Axes: >"
      ]
     },
     "execution_count": 78,
     "metadata": {},
     "output_type": "execute_result"
    },
    {
     "data": {
      "image/png": "[encoded data removed]",
      "text/plain": [
       "<Figure size 640x480 with 2 Axes>"
      ]
     },
     "metadata": {},
     "output_type": "display_data"
    }
   ],
   "source": [
    "matrix = pd.DataFrame(data=data_table, columns=['Actual Positive:1', 'Actual Negative:0'], \n",
    "                                 index=['Predict Positive:1', 'Predict Negative:0'])\n",
    "\n",
    "sns.heatmap(matrix, annot=True, fmt='d', cmap='YlGnBu')"
   ]
  },
  {
   "cell_type": "code",
   "execution_count": 79,
   "id": "4937e767-a6d0-4da0-b380-04c6a505e589",
   "metadata": {
    "tags": []
   },
   "outputs": [
    {
     "name": "stdout",
     "output_type": "stream",
     "text": [
      "              precision    recall  f1-score   support\n",
      "\n",
      "           0       0.50      0.43      0.46     16669\n",
      "           1       0.50      0.58      0.54     16719\n",
      "\n",
      "    accuracy                           0.50     33388\n",
      "   macro avg       0.50      0.50      0.50     33388\n",
      "weighted avg       0.50      0.50      0.50     33388\n",
      "\n"
     ]
    }
   ],
   "source": [
    "print(classification_report(y_train,y_train_pred))"
   ]
  },
  {
   "cell_type": "code",
   "execution_count": 80,
   "id": "da958d02-8fef-418c-af08-f2624234868e",
   "metadata": {
    "tags": []
   },
   "outputs": [],
   "source": [
    "naive_aucc=accuracy_score(y_train,y_train_pred)"
   ]
  },
  {
   "cell_type": "code",
   "execution_count": 81,
   "id": "9f3278db-9495-46be-95b6-c2d8e5e72f78",
   "metadata": {
    "tags": []
   },
   "outputs": [],
   "source": [
    "# Data validation on x_test\n",
    "test_pred_naive=gnb.predict(x_test)"
   ]
  },
  {
   "cell_type": "code",
   "execution_count": 82,
   "id": "11cef0a5-526e-4cb7-bdc7-e2cb557d95ce",
   "metadata": {
    "tags": []
   },
   "outputs": [
    {
     "name": "stdout",
     "output_type": "stream",
     "text": [
      "model accuracy-->0.503\n"
     ]
    }
   ],
   "source": [
    "print('model accuracy-->{0:0.3f}'.format(accuracy_score(y_train,y_train_pred)))"
   ]
  },
  {
   "cell_type": "code",
   "execution_count": 83,
   "id": "5ca356e8-fba7-4f6d-9658-f4949ad18b8d",
   "metadata": {
    "tags": []
   },
   "outputs": [
    {
     "name": "stdout",
     "output_type": "stream",
     "text": [
      "model accuracy-->0.511\n"
     ]
    }
   ],
   "source": [
    "print('model accuracy-->{0:0.3f}'.format(accuracy_score(test_pred_naive,y_test)))"
   ]
  },
  {
   "cell_type": "code",
   "execution_count": 84,
   "id": "02f8f9fb-59c2-41b6-9080-91be844a2750",
   "metadata": {
    "tags": []
   },
   "outputs": [],
   "source": [
    "naive_test=accuracy_score(test_pred_naive,y_test)"
   ]
  },
  {
   "cell_type": "markdown",
   "id": "eacb2d98-326e-4b8f-9fca-03b6e3f5185e",
   "metadata": {},
   "source": [
    "## Decision Classifier "
   ]
  },
  {
   "cell_type": "code",
   "execution_count": 85,
   "id": "bd8be1a9-5f76-49db-b691-dbf665fac304",
   "metadata": {
    "tags": []
   },
   "outputs": [],
   "source": [
    "#importing neccesary files\n",
    "from sklearn.metrics import accuracy_score, classification_report\n",
    "from sklearn.tree import DecisionTreeClassifier"
   ]
  },
  {
   "cell_type": "code",
   "execution_count": 86,
   "id": "03823796-2f65-4260-859b-adedba63abda",
   "metadata": {
    "tags": []
   },
   "outputs": [],
   "source": [
    "ds=DecisionTreeClassifier()"
   ]
  },
  {
   "cell_type": "code",
   "execution_count": 87,
   "id": "422ac645-416a-4a2d-8cc7-5a1f6d737cac",
   "metadata": {
    "tags": []
   },
   "outputs": [
    {
     "data": {
      "text/html": [
       "<style>#sk-container-id-3 {color: black;}#sk-container-id-3 pre{padding: 0;}#sk-container-id-3 div.sk-toggleable {background-color: white;}#sk-container-id-3 label.sk-toggleable__label {cursor: pointer;display: block;width: 100%;margin-bottom: 0;padding: 0.3em;box-sizing: border-box;text-align: center;}#sk-container-id-3 label.sk-toggleable__label-arrow:before {content: \"▸\";float: left;margin-right: 0.25em;color: #696969;}#sk-container-id-3 label.sk-toggleable__label-arrow:hover:before {color: black;}#sk-container-id-3 div.sk-estimator:hover label.sk-toggleable__label-arrow:before {color: black;}#sk-container-id-3 div.sk-toggleable__content {max-height: 0;max-width: 0;overflow: hidden;text-align: left;background-color: #f0f8ff;}#sk-container-id-3 div.sk-toggleable__content pre {margin: 0.2em;color: black;border-radius: 0.25em;background-color: #f0f8ff;}#sk-container-id-3 input.sk-toggleable__control:checked~div.sk-toggleable__content {max-height: 200px;max-width: 100%;overflow: auto;}#sk-container-id-3 input.sk-toggleable__control:checked~label.sk-toggleable__label-arrow:before {content: \"▾\";}#sk-container-id-3 div.sk-estimator input.sk-toggleable__control:checked~label.sk-toggleable__label {background-color: #d4ebff;}#sk-container-id-3 div.sk-label input.sk-toggleable__control:checked~label.sk-toggleable__label {background-color: #d4ebff;}#sk-container-id-3 input.sk-hidden--visually {border: 0;clip: rect(1px 1px 1px 1px);clip: rect(1px, 1px, 1px, 1px);height: 1px;margin: -1px;overflow: hidden;padding: 0;position: absolute;width: 1px;}#sk-container-id-3 div.sk-estimator {font-family: monospace;background-color: #f0f8ff;border: 1px dotted black;border-radius: 0.25em;box-sizing: border-box;margin-bottom: 0.5em;}#sk-container-id-3 div.sk-estimator:hover {background-color: #d4ebff;}#sk-container-id-3 div.sk-parallel-item::after {content: \"\";width: 100%;border-bottom: 1px solid gray;flex-grow: 1;}#sk-container-id-3 div.sk-label:hover label.sk-toggleable__label {background-color: #d4ebff;}#sk-container-id-3 div.sk-serial::before {content: \"\";position: absolute;border-left: 1px solid gray;box-sizing: border-box;top: 0;bottom: 0;left: 50%;z-index: 0;}#sk-container-id-3 div.sk-serial {display: flex;flex-direction: column;align-items: center;background-color: white;padding-right: 0.2em;padding-left: 0.2em;position: relative;}#sk-container-id-3 div.sk-item {position: relative;z-index: 1;}#sk-container-id-3 div.sk-parallel {display: flex;align-items: stretch;justify-content: center;background-color: white;position: relative;}#sk-container-id-3 div.sk-item::before, #sk-container-id-3 div.sk-parallel-item::before {content: \"\";position: absolute;border-left: 1px solid gray;box-sizing: border-box;top: 0;bottom: 0;left: 50%;z-index: -1;}#sk-container-id-3 div.sk-parallel-item {display: flex;flex-direction: column;z-index: 1;position: relative;background-color: white;}#sk-container-id-3 div.sk-parallel-item:first-child::after {align-self: flex-end;width: 50%;}#sk-container-id-3 div.sk-parallel-item:last-child::after {align-self: flex-start;width: 50%;}#sk-container-id-3 div.sk-parallel-item:only-child::after {width: 0;}#sk-container-id-3 div.sk-dashed-wrapped {border: 1px dashed gray;margin: 0 0.4em 0.5em 0.4em;box-sizing: border-box;padding-bottom: 0.4em;background-color: white;}#sk-container-id-3 div.sk-label label {font-family: monospace;font-weight: bold;display: inline-block;line-height: 1.2em;}#sk-container-id-3 div.sk-label-container {text-align: center;}#sk-container-id-3 div.sk-container {/* jupyter's `normalize.less` sets `[hidden] { display: none; }` but bootstrap.min.css set `[hidden] { display: none !important; }` so we also need the `!important` here to be able to override the default hidden behavior on the sphinx rendered scikit-learn.org. See: https://github.com/scikit-learn/scikit-learn/issues/21755 */display: inline-block !important;position: relative;}#sk-container-id-3 div.sk-text-repr-fallback {display: none;}</style><div id=\"sk-container-id-3\" class=\"sk-top-container\"><div class=\"sk-text-repr-fallback\"><pre>DecisionTreeClassifier()</pre><b>In a Jupyter environment, please rerun this cell to show the HTML representation or trust the notebook. <br />On GitHub, the HTML representation is unable to render, please try loading this page with nbviewer.org.</b></div><div class=\"sk-container\" hidden><div class=\"sk-item\"><div class=\"sk-estimator sk-toggleable\"><input class=\"sk-toggleable__control sk-hidden--visually\" id=\"sk-estimator-id-3\" type=\"checkbox\" checked><label for=\"sk-estimator-id-3\" class=\"sk-toggleable__label sk-toggleable__label-arrow\">DecisionTreeClassifier</label><div class=\"sk-toggleable__content\"><pre>DecisionTreeClassifier()</pre></div></div></div></div></div>"
      ],
      "text/plain": [
       "DecisionTreeClassifier()"
      ]
     },
     "execution_count": 87,
     "metadata": {},
     "output_type": "execute_result"
    }
   ],
   "source": [
    "ds.fit(x_train,y_train)"
   ]
  },
  {
   "cell_type": "code",
   "execution_count": 88,
   "id": "d1679d0d-80a8-4211-87ea-9c749c912563",
   "metadata": {
    "tags": []
   },
   "outputs": [],
   "source": [
    "test_pred=ds.predict(x_test)"
   ]
  },
  {
   "cell_type": "code",
   "execution_count": 89,
   "id": "efa6d50f-c759-45a0-af4d-1c6cc436b410",
   "metadata": {
    "tags": []
   },
   "outputs": [],
   "source": [
    "train_pred=ds.predict(x_train)"
   ]
  },
  {
   "cell_type": "code",
   "execution_count": 90,
   "id": "251834a0-1b2d-43b3-bd96-72361283a3c3",
   "metadata": {
    "tags": []
   },
   "outputs": [
    {
     "name": "stdout",
     "output_type": "stream",
     "text": [
      "Train Accuracy 1.0\n",
      "Test Accuracy 1.0\n"
     ]
    }
   ],
   "source": [
    "print(f\"Train Accuracy {accuracy_score(train_pred,y_train)}\")\n",
    "print(f\"Test Accuracy {accuracy_score(test_pred,y_test)}\")"
   ]
  },
  {
   "cell_type": "code",
   "execution_count": 91,
   "id": "b2b58a5c-4699-4735-af50-c0e41d3fa764",
   "metadata": {
    "tags": []
   },
   "outputs": [],
   "source": [
    "dt_aucc=accuracy_score(train_pred,y_train)\n",
    "dt_test=accuracy_score(test_pred,y_test)"
   ]
  },
  {
   "cell_type": "code",
   "execution_count": 92,
   "id": "5fb9246f-caea-44ac-a42d-cbd0bbfac2eb",
   "metadata": {
    "tags": []
   },
   "outputs": [
    {
     "data": {
      "image/png": "[encoded data removed]",
      "text/plain": [
       "<Figure size 2000x1000 with 1 Axes>"
      ]
     },
     "metadata": {},
     "output_type": "display_data"
    }
   ],
   "source": [
    "import matplotlib.pyplot as plt\n",
    "from  sklearn.tree import plot_tree\n",
    "plt.figure(figsize=(20,10))\n",
    "plot_tree(ds,feature_names=x.columns.tolist(),class_names=[\"0\",\"1\"],filled=True)\n",
    "plt.show()"
   ]
  },
  {
   "cell_type": "markdown",
   "id": "aaca346d-7af0-4d62-87be-6882617441af",
   "metadata": {},
   "source": [
    "# Random Forest classifier Model "
   ]
  },
  {
   "cell_type": "code",
   "execution_count": 94,
   "id": "ef2f123e-fac5-4f52-b0f8-9b9bbbf79e2d",
   "metadata": {
    "tags": []
   },
   "outputs": [],
   "source": [
    "from sklearn.ensemble import RandomForestClassifier\n",
    "from sklearn.metrics import mean_squared_error"
   ]
  },
  {
   "cell_type": "code",
   "execution_count": 95,
   "id": "37ebe98e-0891-4423-8280-e0c01ca6fc3a",
   "metadata": {
    "tags": []
   },
   "outputs": [],
   "source": [
    "rfr=RandomForestClassifier(n_estimators=6,max_depth=3,random_state=42)"
   ]
  },
  {
   "cell_type": "code",
   "execution_count": 96,
   "id": "4d0773ce-8642-490e-b1bb-862fe66916c9",
   "metadata": {
    "tags": []
   },
   "outputs": [
    {
     "data": {
      "text/html": [
       "<style>#sk-container-id-4 {color: black;}#sk-container-id-4 pre{padding: 0;}#sk-container-id-4 div.sk-toggleable {background-color: white;}#sk-container-id-4 label.sk-toggleable__label {cursor: pointer;display: block;width: 100%;margin-bottom: 0;padding: 0.3em;box-sizing: border-box;text-align: center;}#sk-container-id-4 label.sk-toggleable__label-arrow:before {content: \"▸\";float: left;margin-right: 0.25em;color: #696969;}#sk-container-id-4 label.sk-toggleable__label-arrow:hover:before {color: black;}#sk-container-id-4 div.sk-estimator:hover label.sk-toggleable__label-arrow:before {color: black;}#sk-container-id-4 div.sk-toggleable__content {max-height: 0;max-width: 0;overflow: hidden;text-align: left;background-color: #f0f8ff;}#sk-container-id-4 div.sk-toggleable__content pre {margin: 0.2em;color: black;border-radius: 0.25em;background-color: #f0f8ff;}#sk-container-id-4 input.sk-toggleable__control:checked~div.sk-toggleable__content {max-height: 200px;max-width: 100%;overflow: auto;}#sk-container-id-4 input.sk-toggleable__control:checked~label.sk-toggleable__label-arrow:before {content: \"▾\";}#sk-container-id-4 div.sk-estimator input.sk-toggleable__control:checked~label.sk-toggleable__label {background-color: #d4ebff;}#sk-container-id-4 div.sk-label input.sk-toggleable__control:checked~label.sk-toggleable__label {background-color: #d4ebff;}#sk-container-id-4 input.sk-hidden--visually {border: 0;clip: rect(1px 1px 1px 1px);clip: rect(1px, 1px, 1px, 1px);height: 1px;margin: -1px;overflow: hidden;padding: 0;position: absolute;width: 1px;}#sk-container-id-4 div.sk-estimator {font-family: monospace;background-color: #f0f8ff;border: 1px dotted black;border-radius: 0.25em;box-sizing: border-box;margin-bottom: 0.5em;}#sk-container-id-4 div.sk-estimator:hover {background-color: #d4ebff;}#sk-container-id-4 div.sk-parallel-item::after {content: \"\";width: 100%;border-bottom: 1px solid gray;flex-grow: 1;}#sk-container-id-4 div.sk-label:hover label.sk-toggleable__label {background-color: #d4ebff;}#sk-container-id-4 div.sk-serial::before {content: \"\";position: absolute;border-left: 1px solid gray;box-sizing: border-box;top: 0;bottom: 0;left: 50%;z-index: 0;}#sk-container-id-4 div.sk-serial {display: flex;flex-direction: column;align-items: center;background-color: white;padding-right: 0.2em;padding-left: 0.2em;position: relative;}#sk-container-id-4 div.sk-item {position: relative;z-index: 1;}#sk-container-id-4 div.sk-parallel {display: flex;align-items: stretch;justify-content: center;background-color: white;position: relative;}#sk-container-id-4 div.sk-item::before, #sk-container-id-4 div.sk-parallel-item::before {content: \"\";position: absolute;border-left: 1px solid gray;box-sizing: border-box;top: 0;bottom: 0;left: 50%;z-index: -1;}#sk-container-id-4 div.sk-parallel-item {display: flex;flex-direction: column;z-index: 1;position: relative;background-color: white;}#sk-container-id-4 div.sk-parallel-item:first-child::after {align-self: flex-end;width: 50%;}#sk-container-id-4 div.sk-parallel-item:last-child::after {align-self: flex-start;width: 50%;}#sk-container-id-4 div.sk-parallel-item:only-child::after {width: 0;}#sk-container-id-4 div.sk-dashed-wrapped {border: 1px dashed gray;margin: 0 0.4em 0.5em 0.4em;box-sizing: border-box;padding-bottom: 0.4em;background-color: white;}#sk-container-id-4 div.sk-label label {font-family: monospace;font-weight: bold;display: inline-block;line-height: 1.2em;}#sk-container-id-4 div.sk-label-container {text-align: center;}#sk-container-id-4 div.sk-container {/* jupyter's `normalize.less` sets `[hidden] { display: none; }` but bootstrap.min.css set `[hidden] { display: none !important; }` so we also need the `!important` here to be able to override the default hidden behavior on the sphinx rendered scikit-learn.org. See: https://github.com/scikit-learn/scikit-learn/issues/21755 */display: inline-block !important;position: relative;}#sk-container-id-4 div.sk-text-repr-fallback {display: none;}</style><div id=\"sk-container-id-4\" class=\"sk-top-container\"><div class=\"sk-text-repr-fallback\"><pre>RandomForestClassifier(max_depth=3, n_estimators=6, random_state=42)</pre><b>In a Jupyter environment, please rerun this cell to show the HTML representation or trust the notebook. <br />On GitHub, the HTML representation is unable to render, please try loading this page with nbviewer.org.</b></div><div class=\"sk-container\" hidden><div class=\"sk-item\"><div class=\"sk-estimator sk-toggleable\"><input class=\"sk-toggleable__control sk-hidden--visually\" id=\"sk-estimator-id-4\" type=\"checkbox\" checked><label for=\"sk-estimator-id-4\" class=\"sk-toggleable__label sk-toggleable__label-arrow\">RandomForestClassifier</label><div class=\"sk-toggleable__content\"><pre>RandomForestClassifier(max_depth=3, n_estimators=6, random_state=42)</pre></div></div></div></div></div>"
      ],
      "text/plain": [
       "RandomForestClassifier(max_depth=3, n_estimators=6, random_state=42)"
      ]
     },
     "execution_count": 96,
     "metadata": {},
     "output_type": "execute_result"
    }
   ],
   "source": [
    "rfr.fit(x_train,y_train)"
   ]
  },
  {
   "cell_type": "code",
   "execution_count": 97,
   "id": "82be07f2-e1c8-46ab-b8c6-732f302df3eb",
   "metadata": {
    "tags": []
   },
   "outputs": [],
   "source": [
    "test_pred_rf=rfr.predict(x_test)"
   ]
  },
  {
   "cell_type": "code",
   "execution_count": 98,
   "id": "11afb045-057f-4450-8df5-7e43cddabb03",
   "metadata": {
    "tags": []
   },
   "outputs": [],
   "source": [
    "train_pred_rf=rfr.predict(x_train)"
   ]
  },
  {
   "cell_type": "code",
   "execution_count": 99,
   "id": "1052631e-3e61-4931-8893-ce3cb7357c12",
   "metadata": {
    "tags": []
   },
   "outputs": [
    {
     "name": "stdout",
     "output_type": "stream",
     "text": [
      "Train Accuracy 1.0\n",
      "Test Accuracy 1.0\n"
     ]
    }
   ],
   "source": [
    "print(f\"Train Accuracy {accuracy_score(train_pred_rf,y_train)}\")\n",
    "\n",
    "print(f\"Test Accuracy {accuracy_score( test_pred_rf,y_test)}\")"
   ]
  },
  {
   "cell_type": "code",
   "execution_count": 100,
   "id": "b05d5c76-a766-4f60-b791-799704ff006c",
   "metadata": {
    "tags": []
   },
   "outputs": [],
   "source": [
    "rf_aucc=accuracy_score(train_pred_rf,y_train)\n",
    "test_aucc=accuracy_score(test_pred_rf,y_test)"
   ]
  },
  {
   "cell_type": "code",
   "execution_count": 101,
   "id": "ba7fc847-320e-4c18-a849-08deb8de192c",
   "metadata": {
    "tags": []
   },
   "outputs": [
    {
     "name": "stdout",
     "output_type": "stream",
     "text": [
      "Mean Squared Error: 0.00\n",
      "Mean Squared Error: 0.00\n"
     ]
    }
   ],
   "source": [
    "mse = mean_squared_error(y_test, test_pred_rf)\n",
    "print(f\"Mean Squared Error: {mse:.2f}\")\n",
    "mse = mean_squared_error(y_train, train_pred_rf)\n",
    "print(f\"Mean Squared Error: {mse:.2f}\")"
   ]
  },
  {
   "cell_type": "markdown",
   "id": "322462bf-79ba-4393-b72a-265f4743d019",
   "metadata": {},
   "source": [
    "# Building KNN model "
   ]
  },
  {
   "cell_type": "code",
   "execution_count": 102,
   "id": "8628660f-a420-4cee-a822-4873f5eb9341",
   "metadata": {
    "tags": []
   },
   "outputs": [],
   "source": [
    "from sklearn.neighbors import KNeighborsClassifier\n",
    "from sklearn.preprocessing import StandardScaler"
   ]
  },
  {
   "cell_type": "code",
   "execution_count": 103,
   "id": "872c1db4-9b0c-43a1-8315-e649267d4491",
   "metadata": {
    "tags": []
   },
   "outputs": [],
   "source": [
    "scaler = StandardScaler()"
   ]
  },
  {
   "cell_type": "code",
   "execution_count": 104,
   "id": "f6840553-ebfe-4237-b20c-561288d7d1e5",
   "metadata": {
    "tags": []
   },
   "outputs": [],
   "source": [
    "x_train_scaled = scaler.fit_transform(x_train)\n",
    "x_test_scaled = scaler.transform(x_test)"
   ]
  },
  {
   "cell_type": "code",
   "execution_count": 105,
   "id": "f5b3343e-a8dd-48b7-9dcd-1af9da9e71be",
   "metadata": {
    "tags": []
   },
   "outputs": [],
   "source": [
    "knn_model = KNeighborsClassifier(n_neighbors=5)"
   ]
  },
  {
   "cell_type": "code",
   "execution_count": 106,
   "id": "d5fd0647-8c83-4043-963a-e7c856f9a37b",
   "metadata": {
    "tags": []
   },
   "outputs": [
    {
     "data": {
      "text/html": [
       "<style>#sk-container-id-5 {color: black;}#sk-container-id-5 pre{padding: 0;}#sk-container-id-5 div.sk-toggleable {background-color: white;}#sk-container-id-5 label.sk-toggleable__label {cursor: pointer;display: block;width: 100%;margin-bottom: 0;padding: 0.3em;box-sizing: border-box;text-align: center;}#sk-container-id-5 label.sk-toggleable__label-arrow:before {content: \"▸\";float: left;margin-right: 0.25em;color: #696969;}#sk-container-id-5 label.sk-toggleable__label-arrow:hover:before {color: black;}#sk-container-id-5 div.sk-estimator:hover label.sk-toggleable__label-arrow:before {color: black;}#sk-container-id-5 div.sk-toggleable__content {max-height: 0;max-width: 0;overflow: hidden;text-align: left;background-color: #f0f8ff;}#sk-container-id-5 div.sk-toggleable__content pre {margin: 0.2em;color: black;border-radius: 0.25em;background-color: #f0f8ff;}#sk-container-id-5 input.sk-toggleable__control:checked~div.sk-toggleable__content {max-height: 200px;max-width: 100%;overflow: auto;}#sk-container-id-5 input.sk-toggleable__control:checked~label.sk-toggleable__label-arrow:before {content: \"▾\";}#sk-container-id-5 div.sk-estimator input.sk-toggleable__control:checked~label.sk-toggleable__label {background-color: #d4ebff;}#sk-container-id-5 div.sk-label input.sk-toggleable__control:checked~label.sk-toggleable__label {background-color: #d4ebff;}#sk-container-id-5 input.sk-hidden--visually {border: 0;clip: rect(1px 1px 1px 1px);clip: rect(1px, 1px, 1px, 1px);height: 1px;margin: -1px;overflow: hidden;padding: 0;position: absolute;width: 1px;}#sk-container-id-5 div.sk-estimator {font-family: monospace;background-color: #f0f8ff;border: 1px dotted black;border-radius: 0.25em;box-sizing: border-box;margin-bottom: 0.5em;}#sk-container-id-5 div.sk-estimator:hover {background-color: #d4ebff;}#sk-container-id-5 div.sk-parallel-item::after {content: \"\";width: 100%;border-bottom: 1px solid gray;flex-grow: 1;}#sk-container-id-5 div.sk-label:hover label.sk-toggleable__label {background-color: #d4ebff;}#sk-container-id-5 div.sk-serial::before {content: \"\";position: absolute;border-left: 1px solid gray;box-sizing: border-box;top: 0;bottom: 0;left: 50%;z-index: 0;}#sk-container-id-5 div.sk-serial {display: flex;flex-direction: column;align-items: center;background-color: white;padding-right: 0.2em;padding-left: 0.2em;position: relative;}#sk-container-id-5 div.sk-item {position: relative;z-index: 1;}#sk-container-id-5 div.sk-parallel {display: flex;align-items: stretch;justify-content: center;background-color: white;position: relative;}#sk-container-id-5 div.sk-item::before, #sk-container-id-5 div.sk-parallel-item::before {content: \"\";position: absolute;border-left: 1px solid gray;box-sizing: border-box;top: 0;bottom: 0;left: 50%;z-index: -1;}#sk-container-id-5 div.sk-parallel-item {display: flex;flex-direction: column;z-index: 1;position: relative;background-color: white;}#sk-container-id-5 div.sk-parallel-item:first-child::after {align-self: flex-end;width: 50%;}#sk-container-id-5 div.sk-parallel-item:last-child::after {align-self: flex-start;width: 50%;}#sk-container-id-5 div.sk-parallel-item:only-child::after {width: 0;}#sk-container-id-5 div.sk-dashed-wrapped {border: 1px dashed gray;margin: 0 0.4em 0.5em 0.4em;box-sizing: border-box;padding-bottom: 0.4em;background-color: white;}#sk-container-id-5 div.sk-label label {font-family: monospace;font-weight: bold;display: inline-block;line-height: 1.2em;}#sk-container-id-5 div.sk-label-container {text-align: center;}#sk-container-id-5 div.sk-container {/* jupyter's `normalize.less` sets `[hidden] { display: none; }` but bootstrap.min.css set `[hidden] { display: none !important; }` so we also need the `!important` here to be able to override the default hidden behavior on the sphinx rendered scikit-learn.org. See: https://github.com/scikit-learn/scikit-learn/issues/21755 */display: inline-block !important;position: relative;}#sk-container-id-5 div.sk-text-repr-fallback {display: none;}</style><div id=\"sk-container-id-5\" class=\"sk-top-container\"><div class=\"sk-text-repr-fallback\"><pre>KNeighborsClassifier()</pre><b>In a Jupyter environment, please rerun this cell to show the HTML representation or trust the notebook. <br />On GitHub, the HTML representation is unable to render, please try loading this page with nbviewer.org.</b></div><div class=\"sk-container\" hidden><div class=\"sk-item\"><div class=\"sk-estimator sk-toggleable\"><input class=\"sk-toggleable__control sk-hidden--visually\" id=\"sk-estimator-id-5\" type=\"checkbox\" checked><label for=\"sk-estimator-id-5\" class=\"sk-toggleable__label sk-toggleable__label-arrow\">KNeighborsClassifier</label><div class=\"sk-toggleable__content\"><pre>KNeighborsClassifier()</pre></div></div></div></div></div>"
      ],
      "text/plain": [
       "KNeighborsClassifier()"
      ]
     },
     "execution_count": 106,
     "metadata": {},
     "output_type": "execute_result"
    }
   ],
   "source": [
    "# Fit the model to your training data\n",
    "knn_model.fit(x_train_scaled, y_train)"
   ]
  },
  {
   "cell_type": "code",
   "execution_count": 107,
   "id": "a8d719f1-aeff-4cd1-8805-78cf9267f3a9",
   "metadata": {
    "tags": []
   },
   "outputs": [],
   "source": [
    "# Predict labels for test data\n",
    "test_pred_knn = knn_model.predict(x_test_scaled)"
   ]
  },
  {
   "cell_type": "code",
   "execution_count": 108,
   "id": "8fc577b1-7423-4445-a5f2-b399f7ddfe53",
   "metadata": {
    "tags": []
   },
   "outputs": [],
   "source": [
    "train_pred_knn = knn_model.predict(x_train_scaled)"
   ]
  },
  {
   "cell_type": "code",
   "execution_count": 109,
   "id": "50b34684-3782-461e-bcd2-6efaa48b35f8",
   "metadata": {
    "tags": []
   },
   "outputs": [],
   "source": [
    "knn_aucc=accuracy_score(train_pred_knn,y_train)"
   ]
  },
  {
   "cell_type": "code",
   "execution_count": 110,
   "id": "b42372fa-33ba-4d1c-8630-11159c7f51ef",
   "metadata": {
    "tags": []
   },
   "outputs": [
    {
     "name": "stdout",
     "output_type": "stream",
     "text": [
      "0.9993710315083263\n"
     ]
    }
   ],
   "source": [
    "print(accuracy_score(train_pred_knn,y_train))"
   ]
  },
  {
   "cell_type": "code",
   "execution_count": 111,
   "id": "07332187-a8fa-4c89-b167-ea90fee17887",
   "metadata": {
    "tags": []
   },
   "outputs": [
    {
     "name": "stdout",
     "output_type": "stream",
     "text": [
      "0.9994010541447054\n"
     ]
    }
   ],
   "source": [
    "print(accuracy_score(test_pred_knn,y_test))"
   ]
  },
  {
   "cell_type": "code",
   "execution_count": 112,
   "id": "aa2cd419-d36c-4c9e-b165-54e7dbd8777f",
   "metadata": {
    "tags": []
   },
   "outputs": [
    {
     "name": "stdout",
     "output_type": "stream",
     "text": [
      "              precision    recall  f1-score   support\n",
      "\n",
      "           0       1.00      1.00      1.00      4196\n",
      "           1       1.00      1.00      1.00      4152\n",
      "\n",
      "    accuracy                           1.00      8348\n",
      "   macro avg       1.00      1.00      1.00      8348\n",
      "weighted avg       1.00      1.00      1.00      8348\n",
      "\n"
     ]
    }
   ],
   "source": [
    "knn_test=accuracy_score(test_pred_knn,y_test)\n",
    "print(classification_report(test_pred_knn,y_test))"
   ]
  },
  {
   "cell_type": "code",
   "execution_count": 113,
   "id": "76d36283-6241-4547-b2fb-2e1cd68845ca",
   "metadata": {
    "tags": []
   },
   "outputs": [
    {
     "data": {
      "image/png": "[encoded data removed]",
      "text/plain": [
       "<Figure size 1300x500 with 1 Axes>"
      ]
     },
     "metadata": {},
     "output_type": "display_data"
    }
   ],
   "source": [
    "#Create a bar graph for knn, decision tree, random forest, and logistic regression\n",
    "models = ['KNN', 'Decision Tree',\"Logistic Regression\", 'Random Forest', 'Naive Bayes',] \n",
    "accuracy_values = [knn_aucc, dt_aucc,lr_test, rf_aucc, naive_aucc] \n",
    "plt.figure(figsize=(13, 5))\n",
    "# Plot the bar graph\n",
    "bars = plt.bar(models, accuracy_values, color=['blue', 'green', 'red', 'orange',\"skyblue\"])\n",
    "#Add accuracy values on top of each bar\n",
    "plt.bar_label(bars, labels=[f\"{acc:.2f}\" for acc in accuracy_values])\n",
    "#Add Labels and title \n",
    "plt.xlabel('Models')\n",
    "plt.ylabel('Accuracy')\n",
    "plt.title('Accuracy Comparison for Different Models')\n",
    "#Show the plot\n",
    "plt.show()"
   ]
  }
 ],
 "metadata": {
  "kernelspec": {
   "display_name": "Python 3 (ipykernel)",
   "language": "python",
   "name": "python3"
  },
  "language_info": {
   "codemirror_mode": {
    "name": "ipython",
    "version": 3
   },
   "file_extension": ".py",
   "mimetype": "text/x-python",
   "name": "python",
   "nbconvert_exporter": "python",
   "pygments_lexer": "ipython3",
   "version": "3.11.5"
  }
 },
 "nbformat": 4,
 "nbformat_minor": 5
}
